{
  "nbformat": 4,
  "nbformat_minor": 0,
  "metadata": {
    "colab": {
      "name": "birdsClassificator_v9.ipynb",
      "version": "0.3.2",
      "views": {},
      "default_view": {},
      "provenance": [
        {
          "file_id": "https://github.com/jesugome/birdsClassification/blob/master/birdsClassificator_v8.ipynb",
          "timestamp": 1531676813982
        },
        {
          "file_id": "https://github.com/jesugome/birdsClassification/blob/master/birdsClassificator_v4.ipynb",
          "timestamp": 1531517292920
        }
      ],
      "collapsed_sections": []
    },
    "kernelspec": {
      "display_name": "Python 3",
      "language": "python",
      "name": "python3"
    },
    "accelerator": "GPU"
  },
  "cells": [
    {
      "metadata": {
        "id": "D-IYY_18jIRx",
        "colab_type": "text"
      },
      "cell_type": "markdown",
      "source": [
        "\n",
        "![Image of Yaktocat](https://github.com/jesugome/InfluencersInSocialNetworks/raw/master/logoAnalytics.png)"
      ]
    },
    {
      "metadata": {
        "id": "MI2dRJ_0iyqC",
        "colab_type": "text"
      },
      "cell_type": "markdown",
      "source": [
        "\n",
        "# Birds\n",
        "\n",
        "![Image of Yaktocat](http://tremendouswallpapers.com/wp-content/uploads/2014/12/Venette-Waste_Trend-F-W-14-15_Neat-Graphics_mandarin-duck.jpg)\n",
        "    \n",
        " ## Machine Learning Project\n",
        "\n",
        "Developed by [Jesus Solano](http://www.jesussolano.com/) -- [Sergio Castelblanco](http://www.jesussolano.com/) -- [Jose Sandoval](http://www.jesussolano.com/) -- [Aleksey Sepulveda](http://www.jesussolano.com/)\n",
        "\n",
        "\n",
        "version 9.1, July 15 2018"
      ]
    },
    {
      "metadata": {
        "id": "jrgWljsfiyqD",
        "colab_type": "text"
      },
      "cell_type": "markdown",
      "source": [
        "## Load Datasets"
      ]
    },
    {
      "metadata": {
        "id": "tsQc5VkZ6Ku9",
        "colab_type": "code",
        "colab": {
          "autoexec": {
            "startup": false,
            "wait_interval": 0
          },
          "base_uri": "https://localhost:8080/",
          "height": 603
        },
        "outputId": "7d436b4b-3d1e-4834-d3f7-844d312c24c6",
        "executionInfo": {
          "status": "ok",
          "timestamp": 1531713114023,
          "user_tz": 300,
          "elapsed": 4933,
          "user": {
            "displayName": "sergi castel",
            "photoUrl": "//lh5.googleusercontent.com/-t7uPTy_PD5c/AAAAAAAAAAI/AAAAAAAABjU/YrQqLvCov5A/s50-c-k-no/photo.jpg",
            "userId": "104485759475975710875"
          }
        }
      },
      "cell_type": "code",
      "source": [
        "# Download datasets.\n",
        "\n",
        "import os.path\n",
        "import numpy as np\n",
        "\n",
        "# If datasets already exist do nothing. \n",
        "\n",
        "if not os.path.exists('birds.zip'):\n",
        "  ! wget http://www-cvr.ai.uiuc.edu/ponce_grp/data/birds/birds.zip\n",
        "    \n",
        "if not os.path.exists('birds_f_numbers.txt'):\n",
        "  ! wget http://www-cvr.ai.uiuc.edu/ponce_grp/data/birds/birds_f_numbers.txt\n",
        "    \n",
        "if not os.path.exists('birds_training_pairs.txt'):\n",
        "  ! wget http://www-cvr.ai.uiuc.edu/ponce_grp/data/birds/birds_training_pairs.txt\n"
      ],
      "execution_count": 1,
      "outputs": [
        {
          "output_type": "stream",
          "text": [
            "--2018-07-16 03:51:50--  http://www-cvr.ai.uiuc.edu/ponce_grp/data/birds/birds.zip\n",
            "Resolving www-cvr.ai.uiuc.edu (www-cvr.ai.uiuc.edu)... 128.174.227.253\n",
            "Connecting to www-cvr.ai.uiuc.edu (www-cvr.ai.uiuc.edu)|128.174.227.253|:80... connected.\n",
            "HTTP request sent, awaiting response... 200 OK\n",
            "Length: 43988823 (42M) [application/zip]\n",
            "Saving to: ‘birds.zip’\n",
            "\n",
            "birds.zip           100%[===================>]  41.95M  45.5MB/s    in 0.9s    \n",
            "\n",
            "2018-07-16 03:51:51 (45.5 MB/s) - ‘birds.zip’ saved [43988823/43988823]\n",
            "\n",
            "--2018-07-16 03:51:52--  http://www-cvr.ai.uiuc.edu/ponce_grp/data/birds/birds_f_numbers.txt\n",
            "Resolving www-cvr.ai.uiuc.edu (www-cvr.ai.uiuc.edu)... 128.174.227.253\n",
            "Connecting to www-cvr.ai.uiuc.edu (www-cvr.ai.uiuc.edu)|128.174.227.253|:80... connected.\n",
            "HTTP request sent, awaiting response... 200 OK\n",
            "Length: 4656 (4.5K) [text/plain]\n",
            "Saving to: ‘birds_f_numbers.txt’\n",
            "\n",
            "birds_f_numbers.txt 100%[===================>]   4.55K  --.-KB/s    in 0s      \n",
            "\n",
            "2018-07-16 03:51:52 (309 MB/s) - ‘birds_f_numbers.txt’ saved [4656/4656]\n",
            "\n",
            "--2018-07-16 03:51:53--  http://www-cvr.ai.uiuc.edu/ponce_grp/data/birds/birds_training_pairs.txt\n",
            "Resolving www-cvr.ai.uiuc.edu (www-cvr.ai.uiuc.edu)... 128.174.227.253\n",
            "Connecting to www-cvr.ai.uiuc.edu (www-cvr.ai.uiuc.edu)|128.174.227.253|:80... connected.\n",
            "HTTP request sent, awaiting response... 200 OK\n",
            "Length: 3013 (2.9K) [text/plain]\n",
            "Saving to: ‘birds_training_pairs.txt’\n",
            "\n",
            "birds_training_pair 100%[===================>]   2.94K  --.-KB/s    in 0s      \n",
            "\n",
            "2018-07-16 03:51:53 (284 MB/s) - ‘birds_training_pairs.txt’ saved [3013/3013]\n",
            "\n"
          ],
          "name": "stdout"
        }
      ]
    },
    {
      "metadata": {
        "id": "G4i5fcv_8UUO",
        "colab_type": "code",
        "colab": {
          "autoexec": {
            "startup": false,
            "wait_interval": 0
          }
        }
      },
      "cell_type": "code",
      "source": [
        "import os \n",
        "import zipfile\n",
        "\n",
        "# Extract images zip file\n",
        "with zipfile.ZipFile(\"birds.zip\",\"r\") as zip_ref:\n",
        "    zip_ref.extractall(os.getcwd())"
      ],
      "execution_count": 0,
      "outputs": []
    },
    {
      "metadata": {
        "id": "KwEH1Zy68ne2",
        "colab_type": "code",
        "colab": {
          "autoexec": {
            "startup": false,
            "wait_interval": 0
          },
          "base_uri": "https://localhost:8080/",
          "height": 304
        },
        "outputId": "759eae6c-240c-4517-f0a1-c4b65a0de737",
        "executionInfo": {
          "status": "ok",
          "timestamp": 1531713175089,
          "user_tz": 300,
          "elapsed": 6494,
          "user": {
            "displayName": "sergi castel",
            "photoUrl": "//lh5.googleusercontent.com/-t7uPTy_PD5c/AAAAAAAAAAI/AAAAAAAABjU/YrQqLvCov5A/s50-c-k-no/photo.jpg",
            "userId": "104485759475975710875"
          }
        }
      },
      "cell_type": "code",
      "source": [
        "# Shows an image example of training set.\n",
        "%matplotlib inline\n",
        "\n",
        "import matplotlib.pyplot as plt\n",
        "from keras.preprocessing.image import ImageDataGenerator, array_to_img, img_to_array, load_img\n",
        "\n",
        "img = load_img('birds/egret/egr013.jpg',grayscale=False,target_size=(256,256),interpolation='nearest') \n",
        "x= img_to_array(img)\n",
        "plt.imshow(x/255)\n"
      ],
      "execution_count": 3,
      "outputs": [
        {
          "output_type": "stream",
          "text": [
            "Using TensorFlow backend.\n"
          ],
          "name": "stderr"
        },
        {
          "output_type": "execute_result",
          "data": {
            "text/plain": [
              "<matplotlib.image.AxesImage at 0x7fe2e96efb70>"
            ]
          },
          "metadata": {
            "tags": []
          },
          "execution_count": 3
        },
        {
          "output_type": "display_data",
          "data": {
            "image/png": "[encoded data removed]",
            "text/plain": [
              "<matplotlib.figure.Figure at 0x7fe32d2af9b0>"
            ]
          },
          "metadata": {
            "tags": []
          }
        }
      ]
    },
    {
      "metadata": {
        "id": "P-Q1tp48-bk9",
        "colab_type": "code",
        "colab": {
          "autoexec": {
            "startup": false,
            "wait_interval": 0
          }
        }
      },
      "cell_type": "code",
      "source": [
        "# Create a random sorted list to split set of images in train and test.\n",
        "import random\n",
        "\n",
        "randomList= random.sample(range(1,101),100)\n",
        "\n",
        "formating = \"{:03d}\".format\n",
        "\n",
        "formatedList = [formating(item) for item in randomList]"
      ],
      "execution_count": 0,
      "outputs": []
    },
    {
      "metadata": {
        "id": "2UWh-SYzBSEQ",
        "colab_type": "code",
        "colab": {
          "autoexec": {
            "startup": false,
            "wait_interval": 0
          }
        }
      },
      "cell_type": "code",
      "source": [
        "from PIL import Image\n",
        "\n",
        "# The target size is set due to Xception neural networks requisities. \n",
        "\n",
        "xsize = 299\n",
        "ysize = 299\n",
        "\n",
        "paths=['egret','mandarin','owl','puffin','toucan','wood_duck']\n",
        "\n",
        "maxImage= 80\n",
        "\n",
        "pre=''\n",
        "birdKind=-1\n",
        "\n",
        "xL=[]\n",
        "yL=[]\n",
        "\n",
        "\n",
        "# For to read, resize and split data into train and test.\n",
        "for j in paths[:]:\n",
        "    if(j=='egret'):\n",
        "        pre='/egr'\n",
        "        birdKind=0\n",
        "    elif(j=='mandarin'):\n",
        "        pre='/man'\n",
        "        birdKind=1\n",
        "    elif(j=='owl'):\n",
        "        pre='/owl'\n",
        "        birdKind=2\n",
        "    elif(j=='puffin'):\n",
        "        pre='/puf'\n",
        "        birdKind=3\n",
        "    elif(j=='toucan'):\n",
        "        pre='/tou'\n",
        "        birdKind=4\n",
        "    elif(j=='wood_duck'):\n",
        "        pre='/wod'\n",
        "        birdKind=5\n",
        "\n",
        "        \n",
        "    counter=0\n",
        "    for i in formatedList[:]:\n",
        "        \n",
        "        # Resize images to 224X224\n",
        "        \n",
        "        img = Image.open('birds/'+j+pre+i+'.jpg')\n",
        "        wpercent = (xsize/float(img.size[0]))\n",
        "        img = img.resize((xsize,ysize), Image.ANTIALIAS)\n",
        "        img.save('birds/'+j+pre+i+'.jpg')\n",
        "        \n",
        "        # Load resized image to save into train or test array.\n",
        "        img = load_img('birds/'+j+pre+i+'.jpg',grayscale=False,target_size=(xsize,ysize),interpolation='nearest') \n",
        "        x= img_to_array(img)\n",
        "        \n",
        "        xL.append(x)\n",
        "        yL.append(birdKind)\n",
        "          \n",
        "        counter=counter+1\n",
        "        "
      ],
      "execution_count": 0,
      "outputs": []
    },
    {
      "metadata": {
        "id": "xdBcg35RiyqU",
        "colab_type": "code",
        "colab": {
          "autoexec": {
            "startup": false,
            "wait_interval": 0
          }
        }
      },
      "cell_type": "code",
      "source": [
        "# Convert lists to arrays.\n",
        "from sklearn.model_selection import train_test_split\n",
        "\n",
        "xList=np.asarray(xL)\n",
        "yList=np.asarray(yL)\n",
        "\n",
        "from sklearn.preprocessing import LabelEncoder\n",
        "from keras.utils import np_utils\n",
        "\n",
        "# Encode class values as integers.\n",
        "encoder = LabelEncoder()\n",
        "encoder.fit(yList)\n",
        "encoded_Y = encoder.transform(yList)\n",
        "# Convert integers to dummy variables (i.e. one hot encoded)\n",
        "y = np_utils.to_categorical(encoded_Y)\n",
        "\n",
        "xTrain,xTest,yTrain,yTest = train_test_split(xList, y, test_size=0.3, random_state=22)"
      ],
      "execution_count": 0,
      "outputs": []
    },
    {
      "metadata": {
        "id": "R6JSxbSjBW6J",
        "colab_type": "code",
        "colab": {
          "autoexec": {
            "startup": false,
            "wait_interval": 0
          },
          "base_uri": "https://localhost:8080/",
          "height": 158
        },
        "outputId": "d5069732-1dd8-4415-86b7-df84813bf47b",
        "executionInfo": {
          "status": "ok",
          "timestamp": 1531713223395,
          "user_tz": 300,
          "elapsed": 1578,
          "user": {
            "displayName": "sergi castel",
            "photoUrl": "//lh5.googleusercontent.com/-t7uPTy_PD5c/AAAAAAAAAAI/AAAAAAAABjU/YrQqLvCov5A/s50-c-k-no/photo.jpg",
            "userId": "104485759475975710875"
          }
        }
      },
      "cell_type": "code",
      "source": [
        "# Delete pre existing files.\n",
        "! rm -r datasets/\n",
        "yTrain"
      ],
      "execution_count": 8,
      "outputs": [
        {
          "output_type": "stream",
          "text": [
            "rm: cannot remove 'datasets/': No such file or directory\r\n"
          ],
          "name": "stdout"
        },
        {
          "output_type": "execute_result",
          "data": {
            "text/plain": [
              "array([[0., 0., 1., 0., 0., 0.],\n",
              "       [0., 0., 0., 1., 0., 0.],\n",
              "       [0., 0., 0., 1., 0., 0.],\n",
              "       ...,\n",
              "       [0., 0., 0., 1., 0., 0.],\n",
              "       [0., 0., 0., 1., 0., 0.],\n",
              "       [0., 1., 0., 0., 0., 0.]], dtype=float32)"
            ]
          },
          "metadata": {
            "tags": []
          },
          "execution_count": 8
        }
      ]
    },
    {
      "metadata": {
        "id": "oScjBoKVBduP",
        "colab_type": "code",
        "colab": {
          "autoexec": {
            "startup": false,
            "wait_interval": 0
          }
        },
        "cellView": "both"
      },
      "cell_type": "code",
      "source": [
        "# Copy the images to folder(Not need but useful if we change the train generator)\n",
        "from shutil import copy\n",
        "counter = 0\n",
        "\n",
        "if not os.path.exists('datasets/train/'):\n",
        "  os.makedirs('datasets/train/egr')\n",
        "  os.makedirs('datasets/train/man')\n",
        "  os.makedirs('datasets/train/tou')\n",
        "  os.makedirs('datasets/train/owl')\n",
        "  os.makedirs('datasets/train/puf')\n",
        "  os.makedirs('datasets/train/wod')\n",
        "  \n",
        "if not os.path.exists('datasets/test/'):\n",
        "  os.makedirs('datasets/test/egr')\n",
        "  os.makedirs('datasets/test/man')\n",
        "  os.makedirs('datasets/test/tou')\n",
        "  os.makedirs('datasets/test/owl')\n",
        "  os.makedirs('datasets/test/puf')\n",
        "  os.makedirs('datasets/test/wod')\n",
        "    \n",
        "for i in formatedList[:]:\n",
        "  if counter < maxImage:\n",
        "    copy('birds/egret/egr'+i+'.jpg','datasets/train/egr/egr'+i+'.jpg')\n",
        "    copy('birds/mandarin/man'+i+'.jpg','datasets/train/man/man'+i+'.jpg')\n",
        "    copy('birds/toucan/tou'+i+'.jpg','datasets/train/tou/tou'+i+'.jpg')\n",
        "    copy('birds/owl/owl'+i+'.jpg','datasets/train/owl/owl'+i+'.jpg')\n",
        "    copy('birds/puffin/puf'+i+'.jpg','datasets/train/puf/puf'+i+'.jpg')\n",
        "    copy('birds/wood_duck/wod'+i+'.jpg','datasets/train/wod/wod'+i+'.jpg')\n",
        "  else: \n",
        "      copy('birds/egret/egr'+i+'.jpg','datasets/test/egr/egr'+i+'.jpg')\n",
        "      copy('birds/mandarin/man'+i+'.jpg','datasets/test/man/man'+i+'.jpg')\n",
        "      copy('birds/toucan/tou'+i+'.jpg','datasets/test/tou/tou'+i+'.jpg')\n",
        "      copy('birds/owl/owl'+i+'.jpg','datasets/test/owl/owl'+i+'.jpg')\n",
        "      copy('birds/puffin/puf'+i+'.jpg','datasets/test/puf/puf'+i+'.jpg')\n",
        "      copy('birds/wood_duck/wod'+i+'.jpg','datasets/test/wod/wod'+i+'.jpg')\n",
        "      \n",
        "  counter=counter+1"
      ],
      "execution_count": 0,
      "outputs": []
    },
    {
      "metadata": {
        "id": "aIy9QA4WBilr",
        "colab_type": "code",
        "colab": {
          "autoexec": {
            "startup": false,
            "wait_interval": 0
          }
        }
      },
      "cell_type": "code",
      "source": [
        "# Images general information.\n",
        "\n",
        "# Data path information.\n",
        "trainDataPath= 'datasets/train'\n",
        "testDataPath= 'datasets/test'\n",
        "\n",
        "# Images dimensions.\n",
        "widthSize =  299\n",
        "heightSize = 299\n",
        "\n",
        "# Batch Size.\n",
        "\n",
        "batchSize = 32"
      ],
      "execution_count": 0,
      "outputs": []
    },
    {
      "metadata": {
        "id": "FyE2s6Kuiyqg",
        "colab_type": "text"
      },
      "cell_type": "markdown",
      "source": [
        "# Direct Prediction\n",
        "\n"
      ]
    },
    {
      "metadata": {
        "id": "RJCCoS6Diyqg",
        "colab_type": "text"
      },
      "cell_type": "markdown",
      "source": [
        "### Build CNN \n",
        "We build and train a Convolutional neural network (CNN) to classify the birds' images in six different classes.  "
      ]
    },
    {
      "metadata": {
        "id": "97mw6ND8DcLM",
        "colab_type": "code",
        "colab": {
          "autoexec": {
            "startup": false,
            "wait_interval": 0
          },
          "base_uri": "https://localhost:8080/",
          "height": 781
        },
        "outputId": "eab2f586-d146-4b78-abd1-accd7d51150a",
        "executionInfo": {
          "status": "ok",
          "timestamp": 1531706593232,
          "user_tz": 300,
          "elapsed": 451,
          "user": {
            "displayName": "sergi castel",
            "photoUrl": "//lh5.googleusercontent.com/-t7uPTy_PD5c/AAAAAAAAAAI/AAAAAAAABjU/YrQqLvCov5A/s50-c-k-no/photo.jpg",
            "userId": "104485759475975710875"
          }
        }
      },
      "cell_type": "code",
      "source": [
        "from keras.models import Sequential\n",
        "from keras.layers import Conv2D, MaxPooling2D\n",
        "from keras.layers import Activation, Dropout, Flatten, Dense\n",
        "from keras import backend as K\n",
        "\n",
        "outputClasses = 6\n",
        "\n",
        "# Define if images have color channels firts in the array.\n",
        "if K.image_data_format() == 'channels_first':\n",
        "    input_shape = (3, widthSize, heightSize)\n",
        "else:\n",
        "    input_shape = (widthSize, heightSize, 3)\n",
        "\n",
        "# Creates a CNN model using keras.\n",
        "\n",
        "model = Sequential()\n",
        "NumN=32\n",
        "NumN2=64\n",
        "\n",
        "model.add(Conv2D(NumN, (3, 3), input_shape=input_shape))\n",
        "model.add(Activation('tanh'))\n",
        "model.add(MaxPooling2D(pool_size=(2, 2)))\n",
        "model.add(Dropout(0.5))\n",
        "\n",
        "model.add(Conv2D(NumN, (3, 3)))\n",
        "model.add(Activation('tanh'))\n",
        "model.add(MaxPooling2D(pool_size=(2, 2)))\n",
        "model.add(Dropout(0.5))\n",
        "\n",
        "model.add(Conv2D(NumN2, (3, 3)))\n",
        "model.add(Activation('tanh'))\n",
        "model.add(MaxPooling2D(pool_size=(2, 2)))\n",
        "model.add(Dropout(0.5))\n",
        "\n",
        "model.add(Flatten())\n",
        "model.add(Dense(NumN2))\n",
        "model.add(Activation('tanh'))\n",
        "model.add(Dropout(0.5))\n",
        "model.add(Dense(outputClasses))\n",
        "model.add(Activation('softmax'))\n",
        "\n",
        "model.summary()"
      ],
      "execution_count": 13,
      "outputs": [
        {
          "output_type": "stream",
          "text": [
            "_________________________________________________________________\n",
            "Layer (type)                 Output Shape              Param #   \n",
            "=================================================================\n",
            "conv2d_1 (Conv2D)            (None, 297, 297, 32)      896       \n",
            "_________________________________________________________________\n",
            "activation_1 (Activation)    (None, 297, 297, 32)      0         \n",
            "_________________________________________________________________\n",
            "max_pooling2d_1 (MaxPooling2 (None, 148, 148, 32)      0         \n",
            "_________________________________________________________________\n",
            "dropout_1 (Dropout)          (None, 148, 148, 32)      0         \n",
            "_________________________________________________________________\n",
            "conv2d_2 (Conv2D)            (None, 146, 146, 32)      9248      \n",
            "_________________________________________________________________\n",
            "activation_2 (Activation)    (None, 146, 146, 32)      0         \n",
            "_________________________________________________________________\n",
            "max_pooling2d_2 (MaxPooling2 (None, 73, 73, 32)        0         \n",
            "_________________________________________________________________\n",
            "dropout_2 (Dropout)          (None, 73, 73, 32)        0         \n",
            "_________________________________________________________________\n",
            "conv2d_3 (Conv2D)            (None, 71, 71, 64)        18496     \n",
            "_________________________________________________________________\n",
            "activation_3 (Activation)    (None, 71, 71, 64)        0         \n",
            "_________________________________________________________________\n",
            "max_pooling2d_3 (MaxPooling2 (None, 35, 35, 64)        0         \n",
            "_________________________________________________________________\n",
            "dropout_3 (Dropout)          (None, 35, 35, 64)        0         \n",
            "_________________________________________________________________\n",
            "flatten_1 (Flatten)          (None, 78400)             0         \n",
            "_________________________________________________________________\n",
            "dense_1 (Dense)              (None, 64)                5017664   \n",
            "_________________________________________________________________\n",
            "activation_4 (Activation)    (None, 64)                0         \n",
            "_________________________________________________________________\n",
            "dropout_4 (Dropout)          (None, 64)                0         \n",
            "_________________________________________________________________\n",
            "dense_2 (Dense)              (None, 6)                 390       \n",
            "_________________________________________________________________\n",
            "activation_5 (Activation)    (None, 6)                 0         \n",
            "=================================================================\n",
            "Total params: 5,046,694\n",
            "Trainable params: 5,046,694\n",
            "Non-trainable params: 0\n",
            "_________________________________________________________________\n"
          ],
          "name": "stdout"
        }
      ]
    },
    {
      "metadata": {
        "id": "efwxFgESdjAI",
        "colab_type": "code",
        "colab": {
          "autoexec": {
            "startup": false,
            "wait_interval": 0
          },
          "base_uri": "https://localhost:8080/",
          "height": 854
        },
        "outputId": "242ea820-e397-401f-b437-35b015cb8d38",
        "executionInfo": {
          "status": "ok",
          "timestamp": 1531713277446,
          "user_tz": 300,
          "elapsed": 5095,
          "user": {
            "displayName": "sergi castel",
            "photoUrl": "//lh5.googleusercontent.com/-t7uPTy_PD5c/AAAAAAAAAAI/AAAAAAAABjU/YrQqLvCov5A/s50-c-k-no/photo.jpg",
            "userId": "104485759475975710875"
          }
        }
      },
      "cell_type": "code",
      "source": [
        "!pip3 install livelossplot"
      ],
      "execution_count": 11,
      "outputs": [
        {
          "output_type": "stream",
          "text": [
            "Collecting livelossplot\n",
            "  Downloading https://files.pythonhosted.org/packages/0c/01/3e34559dbdb98580d5e8f62bc3853975c2a2079834bfba2c1bdffe680804/livelossplot-0.2.0.tar.gz\n",
            "Requirement already satisfied: matplotlib in /usr/local/lib/python3.6/dist-packages (from livelossplot) (2.1.2)\n",
            "Requirement already satisfied: notebook in /usr/local/lib/python3.6/dist-packages (from livelossplot) (5.2.2)\n",
            "Requirement already satisfied: python-dateutil>=2.1 in /usr/local/lib/python3.6/dist-packages (from matplotlib->livelossplot) (2.5.3)\n",
            "Requirement already satisfied: cycler>=0.10 in /usr/local/lib/python3.6/dist-packages (from matplotlib->livelossplot) (0.10.0)\n",
            "Requirement already satisfied: numpy>=1.7.1 in /usr/local/lib/python3.6/dist-packages (from matplotlib->livelossplot) (1.14.5)\n",
            "Requirement already satisfied: pyparsing!=2.0.4,!=2.1.2,!=2.1.6,>=2.0.1 in /usr/local/lib/python3.6/dist-packages (from matplotlib->livelossplot) (2.2.0)\n",
            "Requirement already satisfied: six>=1.10 in /usr/local/lib/python3.6/dist-packages (from matplotlib->livelossplot) (1.11.0)\n",
            "Requirement already satisfied: pytz in /usr/local/lib/python3.6/dist-packages (from matplotlib->livelossplot) (2018.5)\n",
            "Requirement already satisfied: ipython-genutils in /usr/local/lib/python3.6/dist-packages (from notebook->livelossplot) (0.2.0)\n",
            "Requirement already satisfied: jupyter-core in /usr/local/lib/python3.6/dist-packages (from notebook->livelossplot) (4.4.0)\n",
            "Requirement already satisfied: jinja2 in /usr/local/lib/python3.6/dist-packages (from notebook->livelossplot) (2.10)\n",
            "Requirement already satisfied: nbformat in /usr/local/lib/python3.6/dist-packages (from notebook->livelossplot) (4.4.0)\n",
            "Requirement already satisfied: ipykernel in /usr/local/lib/python3.6/dist-packages (from notebook->livelossplot) (4.6.1)\n",
            "Requirement already satisfied: nbconvert in /usr/local/lib/python3.6/dist-packages (from notebook->livelossplot) (5.3.1)\n",
            "Requirement already satisfied: tornado>=4 in /usr/local/lib/python3.6/dist-packages (from notebook->livelossplot) (4.5.3)\n",
            "Requirement already satisfied: traitlets>=4.2.1 in /usr/local/lib/python3.6/dist-packages (from notebook->livelossplot) (4.3.2)\n",
            "Requirement already satisfied: terminado>=0.3.3; sys_platform != \"win32\" in /usr/local/lib/python3.6/dist-packages (from notebook->livelossplot) (0.8.1)\n",
            "Requirement already satisfied: jupyter-client in /usr/local/lib/python3.6/dist-packages (from notebook->livelossplot) (5.2.3)\n",
            "Requirement already satisfied: MarkupSafe>=0.23 in /usr/local/lib/python3.6/dist-packages (from jinja2->notebook->livelossplot) (1.0)\n",
            "Requirement already satisfied: jsonschema!=2.5.0,>=2.4 in /usr/local/lib/python3.6/dist-packages (from nbformat->notebook->livelossplot) (2.6.0)\n",
            "Requirement already satisfied: ipython>=4.0.0 in /usr/local/lib/python3.6/dist-packages (from ipykernel->notebook->livelossplot) (5.5.0)\n",
            "Requirement already satisfied: bleach in /usr/local/lib/python3.6/dist-packages (from nbconvert->notebook->livelossplot) (2.1.3)\n",
            "Requirement already satisfied: entrypoints>=0.2.2 in /usr/local/lib/python3.6/dist-packages (from nbconvert->notebook->livelossplot) (0.2.3)\n",
            "Requirement already satisfied: testpath in /usr/local/lib/python3.6/dist-packages (from nbconvert->notebook->livelossplot) (0.3.1)\n",
            "Requirement already satisfied: mistune>=0.7.4 in /usr/local/lib/python3.6/dist-packages (from nbconvert->notebook->livelossplot) (0.8.3)\n",
            "Requirement already satisfied: pandocfilters>=1.4.1 in /usr/local/lib/python3.6/dist-packages (from nbconvert->notebook->livelossplot) (1.4.2)\n",
            "Requirement already satisfied: pygments in /usr/local/lib/python3.6/dist-packages (from nbconvert->notebook->livelossplot) (2.1.3)\n",
            "Requirement already satisfied: decorator in /usr/local/lib/python3.6/dist-packages (from traitlets>=4.2.1->notebook->livelossplot) (4.3.0)\n",
            "Requirement already satisfied: ptyprocess; os_name != \"nt\" in /usr/local/lib/python3.6/dist-packages (from terminado>=0.3.3; sys_platform != \"win32\"->notebook->livelossplot) (0.6.0)\n",
            "Requirement already satisfied: pyzmq>=13 in /usr/local/lib/python3.6/dist-packages (from jupyter-client->notebook->livelossplot) (16.0.4)\n",
            "Requirement already satisfied: simplegeneric>0.8 in /usr/local/lib/python3.6/dist-packages (from ipython>=4.0.0->ipykernel->notebook->livelossplot) (0.8.1)\n",
            "Requirement already satisfied: pexpect; sys_platform != \"win32\" in /usr/local/lib/python3.6/dist-packages (from ipython>=4.0.0->ipykernel->notebook->livelossplot) (4.6.0)\n",
            "Requirement already satisfied: prompt-toolkit<2.0.0,>=1.0.4 in /usr/local/lib/python3.6/dist-packages (from ipython>=4.0.0->ipykernel->notebook->livelossplot) (1.0.15)\n",
            "Requirement already satisfied: pickleshare in /usr/local/lib/python3.6/dist-packages (from ipython>=4.0.0->ipykernel->notebook->livelossplot) (0.7.4)\n",
            "Requirement already satisfied: setuptools>=18.5 in /usr/local/lib/python3.6/dist-packages (from ipython>=4.0.0->ipykernel->notebook->livelossplot) (39.1.0)\n",
            "Requirement already satisfied: html5lib!=1.0b1,!=1.0b2,!=1.0b3,!=1.0b4,!=1.0b5,!=1.0b6,!=1.0b7,!=1.0b8,>=0.99999999pre in /usr/local/lib/python3.6/dist-packages (from bleach->nbconvert->notebook->livelossplot) (1.0.1)\n",
            "Requirement already satisfied: wcwidth in /usr/local/lib/python3.6/dist-packages (from prompt-toolkit<2.0.0,>=1.0.4->ipython>=4.0.0->ipykernel->notebook->livelossplot) (0.1.7)\n",
            "Requirement already satisfied: webencodings in /usr/local/lib/python3.6/dist-packages (from html5lib!=1.0b1,!=1.0b2,!=1.0b3,!=1.0b4,!=1.0b5,!=1.0b6,!=1.0b7,!=1.0b8,>=0.99999999pre->bleach->nbconvert->notebook->livelossplot) (0.5.1)\n",
            "Building wheels for collected packages: livelossplot\n",
            "  Running setup.py bdist_wheel for livelossplot ... \u001b[?25l-\b \b\\\b \bdone\n",
            "\u001b[?25h  Stored in directory: /content/.cache/pip/wheels/67/8b/e9/3990164e3b2a421145b9d9d76fc8aa889225d495b043faeb73\n",
            "Successfully built livelossplot\n",
            "Installing collected packages: livelossplot\n",
            "Successfully installed livelossplot-0.2.0\n"
          ],
          "name": "stdout"
        }
      ]
    },
    {
      "metadata": {
        "id": "h4-w8jvWDfwo",
        "colab_type": "code",
        "colab": {
          "autoexec": {
            "startup": false,
            "wait_interval": 0
          }
        }
      },
      "cell_type": "code",
      "source": [
        "# Compile the convolutional neural network\n",
        "from keras.optimizers import adam\n",
        "from keras.optimizers import SGD\n",
        "from keras.optimizers import adamax\n",
        "from keras.optimizers import RMSprop\n",
        "from livelossplot import PlotLossesKeras\n",
        "\n",
        "#Defines optimizer.\n",
        "op = SGD(lr=0.0001)\n",
        "\n",
        "# Compile the neural network.\n",
        "model.compile(loss='categorical_crossentropy',\n",
        "             optimizer=op,\n",
        "              metrics=['accuracy'])"
      ],
      "execution_count": 0,
      "outputs": []
    },
    {
      "metadata": {
        "id": "V9FS81paiyqr",
        "colab_type": "code",
        "colab": {
          "autoexec": {
            "startup": false,
            "wait_interval": 0
          },
          "base_uri": "https://localhost:8080/",
          "height": 325
        },
        "outputId": "7a44acd7-f5ea-4f27-c926-42d17d654bb9",
        "executionInfo": {
          "status": "ok",
          "timestamp": 1531706790172,
          "user_tz": 300,
          "elapsed": 345,
          "user": {
            "displayName": "sergi castel",
            "photoUrl": "//lh5.googleusercontent.com/-t7uPTy_PD5c/AAAAAAAAAAI/AAAAAAAABjU/YrQqLvCov5A/s50-c-k-no/photo.jpg",
            "userId": "104485759475975710875"
          }
        }
      },
      "cell_type": "code",
      "source": [
        "batch_size = 35\n",
        "epochs = 50\n",
        "\n",
        "trainingCNN = model.fit(xTrain, yTrain,\n",
        "                    batch_size=batch_size,\n",
        "                    epochs=epochs,\n",
        "                    verbose=1,\n",
        "                    shuffle = False, \n",
        "                    validation_data = [xTest,yTest],callbacks=[PlotLossesKeras()])"
      ],
      "execution_count": 16,
      "outputs": [
        {
          "output_type": "display_data",
          "data": {
            "image/png": "[encoded data removed]",
            "text/plain": [
              "<matplotlib.figure.Figure at 0x7fac42d57550>"
            ]
          },
          "metadata": {
            "tags": []
          }
        }
      ]
    },
    {
      "metadata": {
        "id": "t593JVgTiyqu",
        "colab_type": "code",
        "colab": {
          "autoexec": {
            "startup": false,
            "wait_interval": 0
          },
          "base_uri": "https://localhost:8080/",
          "height": 105
        },
        "outputId": "24840580-ddf2-4353-e54a-ce7e2e1daa0d",
        "executionInfo": {
          "status": "ok",
          "timestamp": 1531706822259,
          "user_tz": 300,
          "elapsed": 1325,
          "user": {
            "displayName": "sergi castel",
            "photoUrl": "//lh5.googleusercontent.com/-t7uPTy_PD5c/AAAAAAAAAAI/AAAAAAAABjU/YrQqLvCov5A/s50-c-k-no/photo.jpg",
            "userId": "104485759475975710875"
          }
        }
      },
      "cell_type": "code",
      "source": [
        "# Perform the neural network over the test set. \n",
        "print('Evaluating the test set...')\n",
        "score = model.evaluate(xTest, yTest)\n",
        "\n",
        "print('\\nTest score:', score[0])\n",
        "print('Test accuracy:', score[1])"
      ],
      "execution_count": 17,
      "outputs": [
        {
          "output_type": "stream",
          "text": [
            "Evaluating the test set...\n",
            "180/180 [==============================] - 1s 6ms/step\n",
            "\n",
            "Test score: 1.7661525461408827\n",
            "Test accuracy: 0.2333333326710595\n"
          ],
          "name": "stdout"
        }
      ]
    },
    {
      "metadata": {
        "id": "9h-YNlyP53Wa",
        "colab_type": "text"
      },
      "cell_type": "markdown",
      "source": [
        "\n",
        "As evidenced in the previous graph, with 50 epoch and a batch size of 35, the best accuracy for validation that was obtained was 26% , this happens because the number of imganees that you have to train the network is very small compared to the training parameters. Chaging parameters like dropout rate or number or convolutions results perform slightly better."
      ]
    },
    {
      "metadata": {
        "id": "5yzJPW-7DrHg",
        "colab_type": "code",
        "colab": {
          "autoexec": {
            "startup": false,
            "wait_interval": 0
          },
          "base_uri": "https://localhost:8080/",
          "height": 461
        },
        "outputId": "44f3eadf-c798-41f9-b0f0-cbce2464f5f1",
        "executionInfo": {
          "status": "ok",
          "timestamp": 1531706827480,
          "user_tz": 300,
          "elapsed": 1005,
          "user": {
            "displayName": "sergi castel",
            "photoUrl": "//lh5.googleusercontent.com/-t7uPTy_PD5c/AAAAAAAAAAI/AAAAAAAABjU/YrQqLvCov5A/s50-c-k-no/photo.jpg",
            "userId": "104485759475975710875"
          }
        }
      },
      "cell_type": "code",
      "source": [
        "from sklearn.metrics import confusion_matrix,classification_report\n",
        "import pandas as pd\n",
        "import numpy as np\n",
        "\n",
        "# Set the classes' names.\n",
        "target_names = ['egr','man','owl','puf','tou','wod']\n",
        "\n",
        "# Predict class in test.\n",
        "Y_pred = model.predict(xTest)\n",
        "\n",
        "# Choose the class with higher probability.\n",
        "y_pred = np.argmax(Y_pred, axis=1)\n",
        "\n",
        "print('-------------------------------------------------')\n",
        "print('-------------------------------------------------')\n",
        "print('-----------------Confusion Matrix----------------')\n",
        "print(pd.DataFrame(confusion_matrix(np.argmax(yTest,axis=1), y_pred),columns=target_names, index=target_names))\n",
        "print('-------------------------------------------------')\n",
        "print('-------------------------------------------------\\n')\n",
        "print('---------------Classification Report-------------')\n",
        "\n",
        "print(classification_report(np.argmax(yTest,axis=1), y_pred, target_names=target_names))"
      ],
      "execution_count": 18,
      "outputs": [
        {
          "output_type": "stream",
          "text": [
            "-------------------------------------------------\n",
            "-------------------------------------------------\n",
            "-----------------Confusion Matrix----------------\n",
            "     egr  man  owl  puf  tou  wod\n",
            "egr    7    2   11    7    0    2\n",
            "man    2   11   14    0    0    6\n",
            "owl    1    1   16    6    0    9\n",
            "puf    7    1   16    5    0    5\n",
            "tou    8    6    8    0    1    4\n",
            "wod    3    4   13    2    0    2\n",
            "-------------------------------------------------\n",
            "-------------------------------------------------\n",
            "\n",
            "---------------Classification Report-------------\n",
            "             precision    recall  f1-score   support\n",
            "\n",
            "        egr       0.25      0.24      0.25        29\n",
            "        man       0.44      0.33      0.38        33\n",
            "        owl       0.21      0.48      0.29        33\n",
            "        puf       0.25      0.15      0.19        34\n",
            "        tou       1.00      0.04      0.07        27\n",
            "        wod       0.07      0.08      0.08        24\n",
            "\n",
            "avg / total       0.37      0.23      0.22       180\n",
            "\n"
          ],
          "name": "stdout"
        }
      ]
    },
    {
      "metadata": {
        "id": "-FDjSJwwCydD",
        "colab_type": "text"
      },
      "cell_type": "markdown",
      "source": [
        "Derived from the confusion matrix we can detect that most of the observations are classified as 'owl' class. Above results come from the weigths initialization and first training batch. "
      ]
    },
    {
      "metadata": {
        "id": "Gg3UAiQKiyq2",
        "colab_type": "text"
      },
      "cell_type": "markdown",
      "source": [
        "## Pretrained CNN - Xception\n",
        "\n",
        "Xception was proposed by none other than François Chollet himself, the creator and chief maintainer of the Keras library. Xception is an extension of the Inception architecture which replaces the standard Inception modules with depthwise separable convolutions.  Xception's structure is as follows.\n",
        "\n",
        "\n",
        "\n",
        "![Xception Structure](https://www.pyimagesearch.com/wp-content/uploads/2017/03/imagenet_xception_flow.png)\n"
      ]
    },
    {
      "metadata": {
        "id": "VfZ_sSkjiyq2",
        "colab_type": "code",
        "colab": {
          "autoexec": {
            "startup": false,
            "wait_interval": 0
          },
          "base_uri": "https://localhost:8080/",
          "height": 52
        },
        "outputId": "aa092f06-019a-4d73-c598-149be9b2840f",
        "executionInfo": {
          "status": "ok",
          "timestamp": 1531706848005,
          "user_tz": 300,
          "elapsed": 14854,
          "user": {
            "displayName": "sergi castel",
            "photoUrl": "//lh5.googleusercontent.com/-t7uPTy_PD5c/AAAAAAAAAAI/AAAAAAAABjU/YrQqLvCov5A/s50-c-k-no/photo.jpg",
            "userId": "104485759475975710875"
          }
        }
      },
      "cell_type": "code",
      "source": [
        "from keras.applications.xception import Xception\n",
        "modelXception = Xception(weights='imagenet', include_top=True)"
      ],
      "execution_count": 19,
      "outputs": [
        {
          "output_type": "stream",
          "text": [
            "Downloading data from https://github.com/fchollet/deep-learning-models/releases/download/v0.4/xception_weights_tf_dim_ordering_tf_kernels.h5\n",
            "91889664/91884032 [==============================] - 3s 0us/step\n"
          ],
          "name": "stdout"
        }
      ]
    },
    {
      "metadata": {
        "id": "K95sclNjiyq5",
        "colab_type": "code",
        "colab": {
          "autoexec": {
            "startup": false,
            "wait_interval": 0
          },
          "base_uri": "https://localhost:8080/",
          "height": 265
        },
        "outputId": "e7fd399e-6bf2-4eb9-aabd-0fb262f0e8f4",
        "executionInfo": {
          "status": "ok",
          "timestamp": 1531706924682,
          "user_tz": 300,
          "elapsed": 7551,
          "user": {
            "displayName": "sergi castel",
            "photoUrl": "//lh5.googleusercontent.com/-t7uPTy_PD5c/AAAAAAAAAAI/AAAAAAAABjU/YrQqLvCov5A/s50-c-k-no/photo.jpg",
            "userId": "104485759475975710875"
          }
        }
      },
      "cell_type": "code",
      "source": [
        "# Predict probabilities for each sample in test.\n",
        "import numpy as np\n",
        "yPred1000P=modelXception.predict(xTest)\n",
        "\n",
        "# Predict class for each sample in test.\n",
        "yPred1000 = np.argmax(yPred1000P, axis=1)\n",
        "yPred1000"
      ],
      "execution_count": 20,
      "outputs": [
        {
          "output_type": "execute_result",
          "data": {
            "text/plain": [
              "array([722, 398, 659, 722, 659, 659, 659, 659, 659, 722, 659, 328, 722,\n",
              "       659, 722, 772, 772, 520, 659, 659, 659, 659, 722, 659, 652, 722,\n",
              "       722, 659, 722, 722, 680, 722, 659, 659, 652, 659, 812, 722, 398,\n",
              "       659, 659, 722, 722, 659, 722, 659, 520, 772, 609, 328, 722, 659,\n",
              "       722, 359, 722, 722, 659, 659, 659, 722, 772, 659, 722, 659, 659,\n",
              "       659, 659, 659, 722, 722, 659, 722, 659, 659, 722, 652, 659, 680,\n",
              "       722, 659, 659, 659, 722, 659, 659, 235, 679, 722, 659, 659, 722,\n",
              "       659, 659, 722, 659, 722, 772, 722, 722, 328, 837, 659, 652, 659,\n",
              "       722, 398, 722, 722, 722, 652, 679, 659, 659, 772, 659, 659, 722,\n",
              "       659, 722, 722, 659, 659, 659, 783, 659, 722, 722, 659, 722, 722,\n",
              "       722, 722, 659, 478, 781, 659, 659, 781, 772, 659, 722, 722, 722,\n",
              "       659, 772, 659, 659, 679, 781, 659, 722, 520, 722, 722, 418, 659,\n",
              "       659, 414, 722, 659, 659, 659, 398, 659, 722, 722, 659, 652, 659,\n",
              "       659, 680, 659, 659, 659, 659, 722, 722, 722, 679, 659])"
            ]
          },
          "metadata": {
            "tags": []
          },
          "execution_count": 20
        }
      ]
    },
    {
      "metadata": {
        "id": "heLwMVeozSiU",
        "colab_type": "code",
        "colab": {
          "autoexec": {
            "startup": false,
            "wait_interval": 0
          },
          "base_uri": "https://localhost:8080/",
          "height": 347
        },
        "outputId": "4e3649d6-b2ca-45cc-85d3-58e631158a5e",
        "executionInfo": {
          "status": "ok",
          "timestamp": 1531706928890,
          "user_tz": 300,
          "elapsed": 309,
          "user": {
            "displayName": "sergi castel",
            "photoUrl": "//lh5.googleusercontent.com/-t7uPTy_PD5c/AAAAAAAAAAI/AAAAAAAABjU/YrQqLvCov5A/s50-c-k-no/photo.jpg",
            "userId": "104485759475975710875"
          }
        }
      },
      "cell_type": "code",
      "source": [
        "# Find the top 10 predicted classes in test set. \n",
        "\n",
        "import pandas as pd\n",
        "unique, counts = np.unique(yPred1000, return_counts=True)\n",
        "\n",
        "predFrequencies =pd.DataFrame( np.asarray((unique, counts)).T,columns=['Class','Count'])\n",
        "\n",
        "sortDataFrame = predFrequencies.sort_values(by='Count',ascending=False)\n",
        "\n",
        "topClasses=sortDataFrame.iloc[:10,:]\n",
        "\n",
        "topClasses\n"
      ],
      "execution_count": 21,
      "outputs": [
        {
          "output_type": "execute_result",
          "data": {
            "text/html": [
              "<div>\n",
              "<style scoped>\n",
              "    .dataframe tbody tr th:only-of-type {\n",
              "        vertical-align: middle;\n",
              "    }\n",
              "\n",
              "    .dataframe tbody tr th {\n",
              "        vertical-align: top;\n",
              "    }\n",
              "\n",
              "    .dataframe thead th {\n",
              "        text-align: right;\n",
              "    }\n",
              "</style>\n",
              "<table border=\"1\" class=\"dataframe\">\n",
              "  <thead>\n",
              "    <tr style=\"text-align: right;\">\n",
              "      <th></th>\n",
              "      <th>Class</th>\n",
              "      <th>Count</th>\n",
              "    </tr>\n",
              "  </thead>\n",
              "  <tbody>\n",
              "    <tr>\n",
              "      <th>10</th>\n",
              "      <td>659</td>\n",
              "      <td>79</td>\n",
              "    </tr>\n",
              "    <tr>\n",
              "      <th>13</th>\n",
              "      <td>722</td>\n",
              "      <td>58</td>\n",
              "    </tr>\n",
              "    <tr>\n",
              "      <th>14</th>\n",
              "      <td>772</td>\n",
              "      <td>8</td>\n",
              "    </tr>\n",
              "    <tr>\n",
              "      <th>9</th>\n",
              "      <td>652</td>\n",
              "      <td>6</td>\n",
              "    </tr>\n",
              "    <tr>\n",
              "      <th>3</th>\n",
              "      <td>398</td>\n",
              "      <td>4</td>\n",
              "    </tr>\n",
              "    <tr>\n",
              "      <th>11</th>\n",
              "      <td>679</td>\n",
              "      <td>4</td>\n",
              "    </tr>\n",
              "    <tr>\n",
              "      <th>12</th>\n",
              "      <td>680</td>\n",
              "      <td>3</td>\n",
              "    </tr>\n",
              "    <tr>\n",
              "      <th>15</th>\n",
              "      <td>781</td>\n",
              "      <td>3</td>\n",
              "    </tr>\n",
              "    <tr>\n",
              "      <th>7</th>\n",
              "      <td>520</td>\n",
              "      <td>3</td>\n",
              "    </tr>\n",
              "    <tr>\n",
              "      <th>1</th>\n",
              "      <td>328</td>\n",
              "      <td>3</td>\n",
              "    </tr>\n",
              "  </tbody>\n",
              "</table>\n",
              "</div>"
            ],
            "text/plain": [
              "    Class  Count\n",
              "10    659     79\n",
              "13    722     58\n",
              "14    772      8\n",
              "9     652      6\n",
              "3     398      4\n",
              "11    679      4\n",
              "12    680      3\n",
              "15    781      3\n",
              "7     520      3\n",
              "1     328      3"
            ]
          },
          "metadata": {
            "tags": []
          },
          "execution_count": 21
        }
      ]
    },
    {
      "metadata": {
        "id": "JYR7D17p7qzH",
        "colab_type": "code",
        "colab": {
          "autoexec": {
            "startup": false,
            "wait_interval": 0
          },
          "base_uri": "https://localhost:8080/",
          "height": 1906
        },
        "outputId": "a1242a8b-c0f8-4065-af09-fb58c1e834f3",
        "executionInfo": {
          "status": "ok",
          "timestamp": 1531706932532,
          "user_tz": 300,
          "elapsed": 354,
          "user": {
            "displayName": "sergi castel",
            "photoUrl": "//lh5.googleusercontent.com/-t7uPTy_PD5c/AAAAAAAAAAI/AAAAAAAABjU/YrQqLvCov5A/s50-c-k-no/photo.jpg",
            "userId": "104485759475975710875"
          }
        }
      },
      "cell_type": "code",
      "source": [
        "# Find the probabilities of being classify in top 10 classes for each image in test. \n",
        "\n",
        "testPredictorDataFrame = pd.DataFrame(yPred1000P)\n",
        "topIndex=topClasses.as_matrix()[:,0]\n",
        "finalPred = round(testPredictorDataFrame.iloc[:,topIndex],4)\n",
        "\n",
        "finalPred"
      ],
      "execution_count": 22,
      "outputs": [
        {
          "output_type": "execute_result",
          "data": {
            "text/html": [
              "<div>\n",
              "<style scoped>\n",
              "    .dataframe tbody tr th:only-of-type {\n",
              "        vertical-align: middle;\n",
              "    }\n",
              "\n",
              "    .dataframe tbody tr th {\n",
              "        vertical-align: top;\n",
              "    }\n",
              "\n",
              "    .dataframe thead th {\n",
              "        text-align: right;\n",
              "    }\n",
              "</style>\n",
              "<table border=\"1\" class=\"dataframe\">\n",
              "  <thead>\n",
              "    <tr style=\"text-align: right;\">\n",
              "      <th></th>\n",
              "      <th>659</th>\n",
              "      <th>722</th>\n",
              "      <th>772</th>\n",
              "      <th>652</th>\n",
              "      <th>398</th>\n",
              "      <th>679</th>\n",
              "      <th>680</th>\n",
              "      <th>781</th>\n",
              "      <th>520</th>\n",
              "      <th>328</th>\n",
              "    </tr>\n",
              "  </thead>\n",
              "  <tbody>\n",
              "    <tr>\n",
              "      <th>0</th>\n",
              "      <td>0.0006</td>\n",
              "      <td>0.9993</td>\n",
              "      <td>0.0001</td>\n",
              "      <td>0.0000</td>\n",
              "      <td>0.0000</td>\n",
              "      <td>0.0000</td>\n",
              "      <td>0.0000</td>\n",
              "      <td>0.0000</td>\n",
              "      <td>0.0000</td>\n",
              "      <td>0.0000</td>\n",
              "    </tr>\n",
              "    <tr>\n",
              "      <th>1</th>\n",
              "      <td>0.0000</td>\n",
              "      <td>0.0000</td>\n",
              "      <td>0.0000</td>\n",
              "      <td>0.0000</td>\n",
              "      <td>0.9902</td>\n",
              "      <td>0.0000</td>\n",
              "      <td>0.0000</td>\n",
              "      <td>0.0000</td>\n",
              "      <td>0.0049</td>\n",
              "      <td>0.0000</td>\n",
              "    </tr>\n",
              "    <tr>\n",
              "      <th>2</th>\n",
              "      <td>1.0000</td>\n",
              "      <td>0.0000</td>\n",
              "      <td>0.0000</td>\n",
              "      <td>0.0000</td>\n",
              "      <td>0.0000</td>\n",
              "      <td>0.0000</td>\n",
              "      <td>0.0000</td>\n",
              "      <td>0.0000</td>\n",
              "      <td>0.0000</td>\n",
              "      <td>0.0000</td>\n",
              "    </tr>\n",
              "    <tr>\n",
              "      <th>3</th>\n",
              "      <td>0.0000</td>\n",
              "      <td>1.0000</td>\n",
              "      <td>0.0000</td>\n",
              "      <td>0.0000</td>\n",
              "      <td>0.0000</td>\n",
              "      <td>0.0000</td>\n",
              "      <td>0.0000</td>\n",
              "      <td>0.0000</td>\n",
              "      <td>0.0000</td>\n",
              "      <td>0.0000</td>\n",
              "    </tr>\n",
              "    <tr>\n",
              "      <th>4</th>\n",
              "      <td>0.8304</td>\n",
              "      <td>0.1696</td>\n",
              "      <td>0.0000</td>\n",
              "      <td>0.0000</td>\n",
              "      <td>0.0000</td>\n",
              "      <td>0.0000</td>\n",
              "      <td>0.0000</td>\n",
              "      <td>0.0000</td>\n",
              "      <td>0.0000</td>\n",
              "      <td>0.0000</td>\n",
              "    </tr>\n",
              "    <tr>\n",
              "      <th>5</th>\n",
              "      <td>1.0000</td>\n",
              "      <td>0.0000</td>\n",
              "      <td>0.0000</td>\n",
              "      <td>0.0000</td>\n",
              "      <td>0.0000</td>\n",
              "      <td>0.0000</td>\n",
              "      <td>0.0000</td>\n",
              "      <td>0.0000</td>\n",
              "      <td>0.0000</td>\n",
              "      <td>0.0000</td>\n",
              "    </tr>\n",
              "    <tr>\n",
              "      <th>6</th>\n",
              "      <td>0.9998</td>\n",
              "      <td>0.0002</td>\n",
              "      <td>0.0000</td>\n",
              "      <td>0.0000</td>\n",
              "      <td>0.0000</td>\n",
              "      <td>0.0000</td>\n",
              "      <td>0.0000</td>\n",
              "      <td>0.0000</td>\n",
              "      <td>0.0000</td>\n",
              "      <td>0.0000</td>\n",
              "    </tr>\n",
              "    <tr>\n",
              "      <th>7</th>\n",
              "      <td>1.0000</td>\n",
              "      <td>0.0000</td>\n",
              "      <td>0.0000</td>\n",
              "      <td>0.0000</td>\n",
              "      <td>0.0000</td>\n",
              "      <td>0.0000</td>\n",
              "      <td>0.0000</td>\n",
              "      <td>0.0000</td>\n",
              "      <td>0.0000</td>\n",
              "      <td>0.0000</td>\n",
              "    </tr>\n",
              "    <tr>\n",
              "      <th>8</th>\n",
              "      <td>1.0000</td>\n",
              "      <td>0.0000</td>\n",
              "      <td>0.0000</td>\n",
              "      <td>0.0000</td>\n",
              "      <td>0.0000</td>\n",
              "      <td>0.0000</td>\n",
              "      <td>0.0000</td>\n",
              "      <td>0.0000</td>\n",
              "      <td>0.0000</td>\n",
              "      <td>0.0000</td>\n",
              "    </tr>\n",
              "    <tr>\n",
              "      <th>9</th>\n",
              "      <td>0.0174</td>\n",
              "      <td>0.6245</td>\n",
              "      <td>0.0000</td>\n",
              "      <td>0.0000</td>\n",
              "      <td>0.0527</td>\n",
              "      <td>0.0000</td>\n",
              "      <td>0.0000</td>\n",
              "      <td>0.0072</td>\n",
              "      <td>0.0000</td>\n",
              "      <td>0.0000</td>\n",
              "    </tr>\n",
              "    <tr>\n",
              "      <th>10</th>\n",
              "      <td>1.0000</td>\n",
              "      <td>0.0000</td>\n",
              "      <td>0.0000</td>\n",
              "      <td>0.0000</td>\n",
              "      <td>0.0000</td>\n",
              "      <td>0.0000</td>\n",
              "      <td>0.0000</td>\n",
              "      <td>0.0000</td>\n",
              "      <td>0.0000</td>\n",
              "      <td>0.0000</td>\n",
              "    </tr>\n",
              "    <tr>\n",
              "      <th>11</th>\n",
              "      <td>0.0008</td>\n",
              "      <td>0.0000</td>\n",
              "      <td>0.0000</td>\n",
              "      <td>0.0000</td>\n",
              "      <td>0.0300</td>\n",
              "      <td>0.0000</td>\n",
              "      <td>0.0000</td>\n",
              "      <td>0.3535</td>\n",
              "      <td>0.0000</td>\n",
              "      <td>0.6017</td>\n",
              "    </tr>\n",
              "    <tr>\n",
              "      <th>12</th>\n",
              "      <td>0.0000</td>\n",
              "      <td>1.0000</td>\n",
              "      <td>0.0000</td>\n",
              "      <td>0.0000</td>\n",
              "      <td>0.0000</td>\n",
              "      <td>0.0000</td>\n",
              "      <td>0.0000</td>\n",
              "      <td>0.0000</td>\n",
              "      <td>0.0000</td>\n",
              "      <td>0.0000</td>\n",
              "    </tr>\n",
              "    <tr>\n",
              "      <th>13</th>\n",
              "      <td>1.0000</td>\n",
              "      <td>0.0000</td>\n",
              "      <td>0.0000</td>\n",
              "      <td>0.0000</td>\n",
              "      <td>0.0000</td>\n",
              "      <td>0.0000</td>\n",
              "      <td>0.0000</td>\n",
              "      <td>0.0000</td>\n",
              "      <td>0.0000</td>\n",
              "      <td>0.0000</td>\n",
              "    </tr>\n",
              "    <tr>\n",
              "      <th>14</th>\n",
              "      <td>0.0004</td>\n",
              "      <td>0.9996</td>\n",
              "      <td>0.0000</td>\n",
              "      <td>0.0000</td>\n",
              "      <td>0.0000</td>\n",
              "      <td>0.0000</td>\n",
              "      <td>0.0000</td>\n",
              "      <td>0.0000</td>\n",
              "      <td>0.0000</td>\n",
              "      <td>0.0000</td>\n",
              "    </tr>\n",
              "    <tr>\n",
              "      <th>15</th>\n",
              "      <td>0.0000</td>\n",
              "      <td>0.0000</td>\n",
              "      <td>1.0000</td>\n",
              "      <td>0.0000</td>\n",
              "      <td>0.0000</td>\n",
              "      <td>0.0000</td>\n",
              "      <td>0.0000</td>\n",
              "      <td>0.0000</td>\n",
              "      <td>0.0000</td>\n",
              "      <td>0.0000</td>\n",
              "    </tr>\n",
              "    <tr>\n",
              "      <th>16</th>\n",
              "      <td>0.0000</td>\n",
              "      <td>0.0000</td>\n",
              "      <td>1.0000</td>\n",
              "      <td>0.0000</td>\n",
              "      <td>0.0000</td>\n",
              "      <td>0.0000</td>\n",
              "      <td>0.0000</td>\n",
              "      <td>0.0000</td>\n",
              "      <td>0.0000</td>\n",
              "      <td>0.0000</td>\n",
              "    </tr>\n",
              "    <tr>\n",
              "      <th>17</th>\n",
              "      <td>0.0000</td>\n",
              "      <td>0.0951</td>\n",
              "      <td>0.0000</td>\n",
              "      <td>0.0132</td>\n",
              "      <td>0.0000</td>\n",
              "      <td>0.0000</td>\n",
              "      <td>0.0005</td>\n",
              "      <td>0.0000</td>\n",
              "      <td>0.5207</td>\n",
              "      <td>0.0000</td>\n",
              "    </tr>\n",
              "    <tr>\n",
              "      <th>18</th>\n",
              "      <td>1.0000</td>\n",
              "      <td>0.0000</td>\n",
              "      <td>0.0000</td>\n",
              "      <td>0.0000</td>\n",
              "      <td>0.0000</td>\n",
              "      <td>0.0000</td>\n",
              "      <td>0.0000</td>\n",
              "      <td>0.0000</td>\n",
              "      <td>0.0000</td>\n",
              "      <td>0.0000</td>\n",
              "    </tr>\n",
              "    <tr>\n",
              "      <th>19</th>\n",
              "      <td>0.9970</td>\n",
              "      <td>0.0000</td>\n",
              "      <td>0.0030</td>\n",
              "      <td>0.0000</td>\n",
              "      <td>0.0000</td>\n",
              "      <td>0.0000</td>\n",
              "      <td>0.0000</td>\n",
              "      <td>0.0000</td>\n",
              "      <td>0.0000</td>\n",
              "      <td>0.0000</td>\n",
              "    </tr>\n",
              "    <tr>\n",
              "      <th>20</th>\n",
              "      <td>0.9999</td>\n",
              "      <td>0.0001</td>\n",
              "      <td>0.0000</td>\n",
              "      <td>0.0000</td>\n",
              "      <td>0.0000</td>\n",
              "      <td>0.0000</td>\n",
              "      <td>0.0000</td>\n",
              "      <td>0.0000</td>\n",
              "      <td>0.0000</td>\n",
              "      <td>0.0000</td>\n",
              "    </tr>\n",
              "    <tr>\n",
              "      <th>21</th>\n",
              "      <td>1.0000</td>\n",
              "      <td>0.0000</td>\n",
              "      <td>0.0000</td>\n",
              "      <td>0.0000</td>\n",
              "      <td>0.0000</td>\n",
              "      <td>0.0000</td>\n",
              "      <td>0.0000</td>\n",
              "      <td>0.0000</td>\n",
              "      <td>0.0000</td>\n",
              "      <td>0.0000</td>\n",
              "    </tr>\n",
              "    <tr>\n",
              "      <th>22</th>\n",
              "      <td>0.0000</td>\n",
              "      <td>0.9320</td>\n",
              "      <td>0.0000</td>\n",
              "      <td>0.0000</td>\n",
              "      <td>0.0000</td>\n",
              "      <td>0.0001</td>\n",
              "      <td>0.0000</td>\n",
              "      <td>0.0000</td>\n",
              "      <td>0.0000</td>\n",
              "      <td>0.0000</td>\n",
              "    </tr>\n",
              "    <tr>\n",
              "      <th>23</th>\n",
              "      <td>1.0000</td>\n",
              "      <td>0.0000</td>\n",
              "      <td>0.0000</td>\n",
              "      <td>0.0000</td>\n",
              "      <td>0.0000</td>\n",
              "      <td>0.0000</td>\n",
              "      <td>0.0000</td>\n",
              "      <td>0.0000</td>\n",
              "      <td>0.0000</td>\n",
              "      <td>0.0000</td>\n",
              "    </tr>\n",
              "    <tr>\n",
              "      <th>24</th>\n",
              "      <td>0.0000</td>\n",
              "      <td>0.3198</td>\n",
              "      <td>0.0000</td>\n",
              "      <td>0.6773</td>\n",
              "      <td>0.0000</td>\n",
              "      <td>0.0004</td>\n",
              "      <td>0.0024</td>\n",
              "      <td>0.0000</td>\n",
              "      <td>0.0000</td>\n",
              "      <td>0.0000</td>\n",
              "    </tr>\n",
              "    <tr>\n",
              "      <th>25</th>\n",
              "      <td>0.0000</td>\n",
              "      <td>1.0000</td>\n",
              "      <td>0.0000</td>\n",
              "      <td>0.0000</td>\n",
              "      <td>0.0000</td>\n",
              "      <td>0.0000</td>\n",
              "      <td>0.0000</td>\n",
              "      <td>0.0000</td>\n",
              "      <td>0.0000</td>\n",
              "      <td>0.0000</td>\n",
              "    </tr>\n",
              "    <tr>\n",
              "      <th>26</th>\n",
              "      <td>0.0122</td>\n",
              "      <td>0.9878</td>\n",
              "      <td>0.0000</td>\n",
              "      <td>0.0000</td>\n",
              "      <td>0.0000</td>\n",
              "      <td>0.0000</td>\n",
              "      <td>0.0000</td>\n",
              "      <td>0.0000</td>\n",
              "      <td>0.0000</td>\n",
              "      <td>0.0000</td>\n",
              "    </tr>\n",
              "    <tr>\n",
              "      <th>27</th>\n",
              "      <td>0.9932</td>\n",
              "      <td>0.0068</td>\n",
              "      <td>0.0000</td>\n",
              "      <td>0.0000</td>\n",
              "      <td>0.0000</td>\n",
              "      <td>0.0000</td>\n",
              "      <td>0.0000</td>\n",
              "      <td>0.0000</td>\n",
              "      <td>0.0000</td>\n",
              "      <td>0.0000</td>\n",
              "    </tr>\n",
              "    <tr>\n",
              "      <th>28</th>\n",
              "      <td>0.0000</td>\n",
              "      <td>0.9970</td>\n",
              "      <td>0.0000</td>\n",
              "      <td>0.0000</td>\n",
              "      <td>0.0000</td>\n",
              "      <td>0.0000</td>\n",
              "      <td>0.0000</td>\n",
              "      <td>0.0000</td>\n",
              "      <td>0.0000</td>\n",
              "      <td>0.0000</td>\n",
              "    </tr>\n",
              "    <tr>\n",
              "      <th>29</th>\n",
              "      <td>0.0110</td>\n",
              "      <td>0.8171</td>\n",
              "      <td>0.0000</td>\n",
              "      <td>0.0000</td>\n",
              "      <td>0.0000</td>\n",
              "      <td>0.0000</td>\n",
              "      <td>0.0000</td>\n",
              "      <td>0.1719</td>\n",
              "      <td>0.0000</td>\n",
              "      <td>0.0000</td>\n",
              "    </tr>\n",
              "    <tr>\n",
              "      <th>...</th>\n",
              "      <td>...</td>\n",
              "      <td>...</td>\n",
              "      <td>...</td>\n",
              "      <td>...</td>\n",
              "      <td>...</td>\n",
              "      <td>...</td>\n",
              "      <td>...</td>\n",
              "      <td>...</td>\n",
              "      <td>...</td>\n",
              "      <td>...</td>\n",
              "    </tr>\n",
              "    <tr>\n",
              "      <th>150</th>\n",
              "      <td>0.0001</td>\n",
              "      <td>0.9998</td>\n",
              "      <td>0.0000</td>\n",
              "      <td>0.0000</td>\n",
              "      <td>0.0000</td>\n",
              "      <td>0.0000</td>\n",
              "      <td>0.0000</td>\n",
              "      <td>0.0000</td>\n",
              "      <td>0.0000</td>\n",
              "      <td>0.0000</td>\n",
              "    </tr>\n",
              "    <tr>\n",
              "      <th>151</th>\n",
              "      <td>0.0720</td>\n",
              "      <td>0.0027</td>\n",
              "      <td>0.0000</td>\n",
              "      <td>0.0013</td>\n",
              "      <td>0.0055</td>\n",
              "      <td>0.0000</td>\n",
              "      <td>0.0000</td>\n",
              "      <td>0.0000</td>\n",
              "      <td>0.9150</td>\n",
              "      <td>0.0000</td>\n",
              "    </tr>\n",
              "    <tr>\n",
              "      <th>152</th>\n",
              "      <td>0.0000</td>\n",
              "      <td>0.9984</td>\n",
              "      <td>0.0000</td>\n",
              "      <td>0.0000</td>\n",
              "      <td>0.0000</td>\n",
              "      <td>0.0000</td>\n",
              "      <td>0.0010</td>\n",
              "      <td>0.0000</td>\n",
              "      <td>0.0000</td>\n",
              "      <td>0.0000</td>\n",
              "    </tr>\n",
              "    <tr>\n",
              "      <th>153</th>\n",
              "      <td>0.0000</td>\n",
              "      <td>0.9962</td>\n",
              "      <td>0.0000</td>\n",
              "      <td>0.0000</td>\n",
              "      <td>0.0000</td>\n",
              "      <td>0.0000</td>\n",
              "      <td>0.0000</td>\n",
              "      <td>0.0000</td>\n",
              "      <td>0.0000</td>\n",
              "      <td>0.0000</td>\n",
              "    </tr>\n",
              "    <tr>\n",
              "      <th>154</th>\n",
              "      <td>0.0017</td>\n",
              "      <td>0.0000</td>\n",
              "      <td>0.0824</td>\n",
              "      <td>0.0000</td>\n",
              "      <td>0.0000</td>\n",
              "      <td>0.0000</td>\n",
              "      <td>0.0000</td>\n",
              "      <td>0.0001</td>\n",
              "      <td>0.0000</td>\n",
              "      <td>0.0000</td>\n",
              "    </tr>\n",
              "    <tr>\n",
              "      <th>155</th>\n",
              "      <td>0.9772</td>\n",
              "      <td>0.0228</td>\n",
              "      <td>0.0000</td>\n",
              "      <td>0.0000</td>\n",
              "      <td>0.0000</td>\n",
              "      <td>0.0000</td>\n",
              "      <td>0.0000</td>\n",
              "      <td>0.0000</td>\n",
              "      <td>0.0000</td>\n",
              "      <td>0.0000</td>\n",
              "    </tr>\n",
              "    <tr>\n",
              "      <th>156</th>\n",
              "      <td>1.0000</td>\n",
              "      <td>0.0000</td>\n",
              "      <td>0.0000</td>\n",
              "      <td>0.0000</td>\n",
              "      <td>0.0000</td>\n",
              "      <td>0.0000</td>\n",
              "      <td>0.0000</td>\n",
              "      <td>0.0000</td>\n",
              "      <td>0.0000</td>\n",
              "      <td>0.0000</td>\n",
              "    </tr>\n",
              "    <tr>\n",
              "      <th>157</th>\n",
              "      <td>0.0001</td>\n",
              "      <td>0.0002</td>\n",
              "      <td>0.0000</td>\n",
              "      <td>0.0208</td>\n",
              "      <td>0.0000</td>\n",
              "      <td>0.0000</td>\n",
              "      <td>0.0003</td>\n",
              "      <td>0.0000</td>\n",
              "      <td>0.0000</td>\n",
              "      <td>0.0000</td>\n",
              "    </tr>\n",
              "    <tr>\n",
              "      <th>158</th>\n",
              "      <td>0.0000</td>\n",
              "      <td>0.9962</td>\n",
              "      <td>0.0000</td>\n",
              "      <td>0.0000</td>\n",
              "      <td>0.0000</td>\n",
              "      <td>0.0001</td>\n",
              "      <td>0.0000</td>\n",
              "      <td>0.0000</td>\n",
              "      <td>0.0000</td>\n",
              "      <td>0.0000</td>\n",
              "    </tr>\n",
              "    <tr>\n",
              "      <th>159</th>\n",
              "      <td>0.5083</td>\n",
              "      <td>0.2984</td>\n",
              "      <td>0.0000</td>\n",
              "      <td>0.0000</td>\n",
              "      <td>0.0000</td>\n",
              "      <td>0.0000</td>\n",
              "      <td>0.0000</td>\n",
              "      <td>0.0000</td>\n",
              "      <td>0.1090</td>\n",
              "      <td>0.0000</td>\n",
              "    </tr>\n",
              "    <tr>\n",
              "      <th>160</th>\n",
              "      <td>1.0000</td>\n",
              "      <td>0.0000</td>\n",
              "      <td>0.0000</td>\n",
              "      <td>0.0000</td>\n",
              "      <td>0.0000</td>\n",
              "      <td>0.0000</td>\n",
              "      <td>0.0000</td>\n",
              "      <td>0.0000</td>\n",
              "      <td>0.0000</td>\n",
              "      <td>0.0000</td>\n",
              "    </tr>\n",
              "    <tr>\n",
              "      <th>161</th>\n",
              "      <td>1.0000</td>\n",
              "      <td>0.0000</td>\n",
              "      <td>0.0000</td>\n",
              "      <td>0.0000</td>\n",
              "      <td>0.0000</td>\n",
              "      <td>0.0000</td>\n",
              "      <td>0.0000</td>\n",
              "      <td>0.0000</td>\n",
              "      <td>0.0000</td>\n",
              "      <td>0.0000</td>\n",
              "    </tr>\n",
              "    <tr>\n",
              "      <th>162</th>\n",
              "      <td>0.0000</td>\n",
              "      <td>0.0000</td>\n",
              "      <td>0.0000</td>\n",
              "      <td>0.0002</td>\n",
              "      <td>0.9652</td>\n",
              "      <td>0.0011</td>\n",
              "      <td>0.0000</td>\n",
              "      <td>0.0000</td>\n",
              "      <td>0.0000</td>\n",
              "      <td>0.0000</td>\n",
              "    </tr>\n",
              "    <tr>\n",
              "      <th>163</th>\n",
              "      <td>1.0000</td>\n",
              "      <td>0.0000</td>\n",
              "      <td>0.0000</td>\n",
              "      <td>0.0000</td>\n",
              "      <td>0.0000</td>\n",
              "      <td>0.0000</td>\n",
              "      <td>0.0000</td>\n",
              "      <td>0.0000</td>\n",
              "      <td>0.0000</td>\n",
              "      <td>0.0000</td>\n",
              "    </tr>\n",
              "    <tr>\n",
              "      <th>164</th>\n",
              "      <td>0.0000</td>\n",
              "      <td>1.0000</td>\n",
              "      <td>0.0000</td>\n",
              "      <td>0.0000</td>\n",
              "      <td>0.0000</td>\n",
              "      <td>0.0000</td>\n",
              "      <td>0.0000</td>\n",
              "      <td>0.0000</td>\n",
              "      <td>0.0000</td>\n",
              "      <td>0.0000</td>\n",
              "    </tr>\n",
              "    <tr>\n",
              "      <th>165</th>\n",
              "      <td>0.0130</td>\n",
              "      <td>0.7976</td>\n",
              "      <td>0.0000</td>\n",
              "      <td>0.0193</td>\n",
              "      <td>0.0003</td>\n",
              "      <td>0.0032</td>\n",
              "      <td>0.0000</td>\n",
              "      <td>0.0000</td>\n",
              "      <td>0.1627</td>\n",
              "      <td>0.0000</td>\n",
              "    </tr>\n",
              "    <tr>\n",
              "      <th>166</th>\n",
              "      <td>0.9998</td>\n",
              "      <td>0.0000</td>\n",
              "      <td>0.0000</td>\n",
              "      <td>0.0000</td>\n",
              "      <td>0.0000</td>\n",
              "      <td>0.0000</td>\n",
              "      <td>0.0000</td>\n",
              "      <td>0.0002</td>\n",
              "      <td>0.0000</td>\n",
              "      <td>0.0000</td>\n",
              "    </tr>\n",
              "    <tr>\n",
              "      <th>167</th>\n",
              "      <td>0.0000</td>\n",
              "      <td>0.0013</td>\n",
              "      <td>0.0000</td>\n",
              "      <td>0.9464</td>\n",
              "      <td>0.0000</td>\n",
              "      <td>0.0391</td>\n",
              "      <td>0.0000</td>\n",
              "      <td>0.0000</td>\n",
              "      <td>0.0000</td>\n",
              "      <td>0.0000</td>\n",
              "    </tr>\n",
              "    <tr>\n",
              "      <th>168</th>\n",
              "      <td>1.0000</td>\n",
              "      <td>0.0000</td>\n",
              "      <td>0.0000</td>\n",
              "      <td>0.0000</td>\n",
              "      <td>0.0000</td>\n",
              "      <td>0.0000</td>\n",
              "      <td>0.0000</td>\n",
              "      <td>0.0000</td>\n",
              "      <td>0.0000</td>\n",
              "      <td>0.0000</td>\n",
              "    </tr>\n",
              "    <tr>\n",
              "      <th>169</th>\n",
              "      <td>1.0000</td>\n",
              "      <td>0.0000</td>\n",
              "      <td>0.0000</td>\n",
              "      <td>0.0000</td>\n",
              "      <td>0.0000</td>\n",
              "      <td>0.0000</td>\n",
              "      <td>0.0000</td>\n",
              "      <td>0.0000</td>\n",
              "      <td>0.0000</td>\n",
              "      <td>0.0000</td>\n",
              "    </tr>\n",
              "    <tr>\n",
              "      <th>170</th>\n",
              "      <td>0.0000</td>\n",
              "      <td>0.0000</td>\n",
              "      <td>0.0000</td>\n",
              "      <td>0.2234</td>\n",
              "      <td>0.0001</td>\n",
              "      <td>0.0000</td>\n",
              "      <td>0.7756</td>\n",
              "      <td>0.0000</td>\n",
              "      <td>0.0000</td>\n",
              "      <td>0.0000</td>\n",
              "    </tr>\n",
              "    <tr>\n",
              "      <th>171</th>\n",
              "      <td>1.0000</td>\n",
              "      <td>0.0000</td>\n",
              "      <td>0.0000</td>\n",
              "      <td>0.0000</td>\n",
              "      <td>0.0000</td>\n",
              "      <td>0.0000</td>\n",
              "      <td>0.0000</td>\n",
              "      <td>0.0000</td>\n",
              "      <td>0.0000</td>\n",
              "      <td>0.0000</td>\n",
              "    </tr>\n",
              "    <tr>\n",
              "      <th>172</th>\n",
              "      <td>1.0000</td>\n",
              "      <td>0.0000</td>\n",
              "      <td>0.0000</td>\n",
              "      <td>0.0000</td>\n",
              "      <td>0.0000</td>\n",
              "      <td>0.0000</td>\n",
              "      <td>0.0000</td>\n",
              "      <td>0.0000</td>\n",
              "      <td>0.0000</td>\n",
              "      <td>0.0000</td>\n",
              "    </tr>\n",
              "    <tr>\n",
              "      <th>173</th>\n",
              "      <td>0.9860</td>\n",
              "      <td>0.0000</td>\n",
              "      <td>0.0000</td>\n",
              "      <td>0.0000</td>\n",
              "      <td>0.0000</td>\n",
              "      <td>0.0000</td>\n",
              "      <td>0.0000</td>\n",
              "      <td>0.0140</td>\n",
              "      <td>0.0000</td>\n",
              "      <td>0.0000</td>\n",
              "    </tr>\n",
              "    <tr>\n",
              "      <th>174</th>\n",
              "      <td>1.0000</td>\n",
              "      <td>0.0000</td>\n",
              "      <td>0.0000</td>\n",
              "      <td>0.0000</td>\n",
              "      <td>0.0000</td>\n",
              "      <td>0.0000</td>\n",
              "      <td>0.0000</td>\n",
              "      <td>0.0000</td>\n",
              "      <td>0.0000</td>\n",
              "      <td>0.0000</td>\n",
              "    </tr>\n",
              "    <tr>\n",
              "      <th>175</th>\n",
              "      <td>0.0000</td>\n",
              "      <td>0.9972</td>\n",
              "      <td>0.0000</td>\n",
              "      <td>0.0000</td>\n",
              "      <td>0.0000</td>\n",
              "      <td>0.0000</td>\n",
              "      <td>0.0002</td>\n",
              "      <td>0.0000</td>\n",
              "      <td>0.0000</td>\n",
              "      <td>0.0000</td>\n",
              "    </tr>\n",
              "    <tr>\n",
              "      <th>176</th>\n",
              "      <td>0.0000</td>\n",
              "      <td>1.0000</td>\n",
              "      <td>0.0000</td>\n",
              "      <td>0.0000</td>\n",
              "      <td>0.0000</td>\n",
              "      <td>0.0000</td>\n",
              "      <td>0.0000</td>\n",
              "      <td>0.0000</td>\n",
              "      <td>0.0000</td>\n",
              "      <td>0.0000</td>\n",
              "    </tr>\n",
              "    <tr>\n",
              "      <th>177</th>\n",
              "      <td>0.0000</td>\n",
              "      <td>0.9998</td>\n",
              "      <td>0.0000</td>\n",
              "      <td>0.0000</td>\n",
              "      <td>0.0000</td>\n",
              "      <td>0.0001</td>\n",
              "      <td>0.0002</td>\n",
              "      <td>0.0000</td>\n",
              "      <td>0.0000</td>\n",
              "      <td>0.0000</td>\n",
              "    </tr>\n",
              "    <tr>\n",
              "      <th>178</th>\n",
              "      <td>0.0000</td>\n",
              "      <td>0.4446</td>\n",
              "      <td>0.0000</td>\n",
              "      <td>0.0007</td>\n",
              "      <td>0.0000</td>\n",
              "      <td>0.5512</td>\n",
              "      <td>0.0014</td>\n",
              "      <td>0.0000</td>\n",
              "      <td>0.0000</td>\n",
              "      <td>0.0000</td>\n",
              "    </tr>\n",
              "    <tr>\n",
              "      <th>179</th>\n",
              "      <td>0.9994</td>\n",
              "      <td>0.0000</td>\n",
              "      <td>0.0000</td>\n",
              "      <td>0.0000</td>\n",
              "      <td>0.0000</td>\n",
              "      <td>0.0000</td>\n",
              "      <td>0.0000</td>\n",
              "      <td>0.0000</td>\n",
              "      <td>0.0000</td>\n",
              "      <td>0.0000</td>\n",
              "    </tr>\n",
              "  </tbody>\n",
              "</table>\n",
              "<p>180 rows × 10 columns</p>\n",
              "</div>"
            ],
            "text/plain": [
              "        659     722     772     652     398     679     680     781     520  \\\n",
              "0    0.0006  0.9993  0.0001  0.0000  0.0000  0.0000  0.0000  0.0000  0.0000   \n",
              "1    0.0000  0.0000  0.0000  0.0000  0.9902  0.0000  0.0000  0.0000  0.0049   \n",
              "2    1.0000  0.0000  0.0000  0.0000  0.0000  0.0000  0.0000  0.0000  0.0000   \n",
              "3    0.0000  1.0000  0.0000  0.0000  0.0000  0.0000  0.0000  0.0000  0.0000   \n",
              "4    0.8304  0.1696  0.0000  0.0000  0.0000  0.0000  0.0000  0.0000  0.0000   \n",
              "5    1.0000  0.0000  0.0000  0.0000  0.0000  0.0000  0.0000  0.0000  0.0000   \n",
              "6    0.9998  0.0002  0.0000  0.0000  0.0000  0.0000  0.0000  0.0000  0.0000   \n",
              "7    1.0000  0.0000  0.0000  0.0000  0.0000  0.0000  0.0000  0.0000  0.0000   \n",
              "8    1.0000  0.0000  0.0000  0.0000  0.0000  0.0000  0.0000  0.0000  0.0000   \n",
              "9    0.0174  0.6245  0.0000  0.0000  0.0527  0.0000  0.0000  0.0072  0.0000   \n",
              "10   1.0000  0.0000  0.0000  0.0000  0.0000  0.0000  0.0000  0.0000  0.0000   \n",
              "11   0.0008  0.0000  0.0000  0.0000  0.0300  0.0000  0.0000  0.3535  0.0000   \n",
              "12   0.0000  1.0000  0.0000  0.0000  0.0000  0.0000  0.0000  0.0000  0.0000   \n",
              "13   1.0000  0.0000  0.0000  0.0000  0.0000  0.0000  0.0000  0.0000  0.0000   \n",
              "14   0.0004  0.9996  0.0000  0.0000  0.0000  0.0000  0.0000  0.0000  0.0000   \n",
              "15   0.0000  0.0000  1.0000  0.0000  0.0000  0.0000  0.0000  0.0000  0.0000   \n",
              "16   0.0000  0.0000  1.0000  0.0000  0.0000  0.0000  0.0000  0.0000  0.0000   \n",
              "17   0.0000  0.0951  0.0000  0.0132  0.0000  0.0000  0.0005  0.0000  0.5207   \n",
              "18   1.0000  0.0000  0.0000  0.0000  0.0000  0.0000  0.0000  0.0000  0.0000   \n",
              "19   0.9970  0.0000  0.0030  0.0000  0.0000  0.0000  0.0000  0.0000  0.0000   \n",
              "20   0.9999  0.0001  0.0000  0.0000  0.0000  0.0000  0.0000  0.0000  0.0000   \n",
              "21   1.0000  0.0000  0.0000  0.0000  0.0000  0.0000  0.0000  0.0000  0.0000   \n",
              "22   0.0000  0.9320  0.0000  0.0000  0.0000  0.0001  0.0000  0.0000  0.0000   \n",
              "23   1.0000  0.0000  0.0000  0.0000  0.0000  0.0000  0.0000  0.0000  0.0000   \n",
              "24   0.0000  0.3198  0.0000  0.6773  0.0000  0.0004  0.0024  0.0000  0.0000   \n",
              "25   0.0000  1.0000  0.0000  0.0000  0.0000  0.0000  0.0000  0.0000  0.0000   \n",
              "26   0.0122  0.9878  0.0000  0.0000  0.0000  0.0000  0.0000  0.0000  0.0000   \n",
              "27   0.9932  0.0068  0.0000  0.0000  0.0000  0.0000  0.0000  0.0000  0.0000   \n",
              "28   0.0000  0.9970  0.0000  0.0000  0.0000  0.0000  0.0000  0.0000  0.0000   \n",
              "29   0.0110  0.8171  0.0000  0.0000  0.0000  0.0000  0.0000  0.1719  0.0000   \n",
              "..      ...     ...     ...     ...     ...     ...     ...     ...     ...   \n",
              "150  0.0001  0.9998  0.0000  0.0000  0.0000  0.0000  0.0000  0.0000  0.0000   \n",
              "151  0.0720  0.0027  0.0000  0.0013  0.0055  0.0000  0.0000  0.0000  0.9150   \n",
              "152  0.0000  0.9984  0.0000  0.0000  0.0000  0.0000  0.0010  0.0000  0.0000   \n",
              "153  0.0000  0.9962  0.0000  0.0000  0.0000  0.0000  0.0000  0.0000  0.0000   \n",
              "154  0.0017  0.0000  0.0824  0.0000  0.0000  0.0000  0.0000  0.0001  0.0000   \n",
              "155  0.9772  0.0228  0.0000  0.0000  0.0000  0.0000  0.0000  0.0000  0.0000   \n",
              "156  1.0000  0.0000  0.0000  0.0000  0.0000  0.0000  0.0000  0.0000  0.0000   \n",
              "157  0.0001  0.0002  0.0000  0.0208  0.0000  0.0000  0.0003  0.0000  0.0000   \n",
              "158  0.0000  0.9962  0.0000  0.0000  0.0000  0.0001  0.0000  0.0000  0.0000   \n",
              "159  0.5083  0.2984  0.0000  0.0000  0.0000  0.0000  0.0000  0.0000  0.1090   \n",
              "160  1.0000  0.0000  0.0000  0.0000  0.0000  0.0000  0.0000  0.0000  0.0000   \n",
              "161  1.0000  0.0000  0.0000  0.0000  0.0000  0.0000  0.0000  0.0000  0.0000   \n",
              "162  0.0000  0.0000  0.0000  0.0002  0.9652  0.0011  0.0000  0.0000  0.0000   \n",
              "163  1.0000  0.0000  0.0000  0.0000  0.0000  0.0000  0.0000  0.0000  0.0000   \n",
              "164  0.0000  1.0000  0.0000  0.0000  0.0000  0.0000  0.0000  0.0000  0.0000   \n",
              "165  0.0130  0.7976  0.0000  0.0193  0.0003  0.0032  0.0000  0.0000  0.1627   \n",
              "166  0.9998  0.0000  0.0000  0.0000  0.0000  0.0000  0.0000  0.0002  0.0000   \n",
              "167  0.0000  0.0013  0.0000  0.9464  0.0000  0.0391  0.0000  0.0000  0.0000   \n",
              "168  1.0000  0.0000  0.0000  0.0000  0.0000  0.0000  0.0000  0.0000  0.0000   \n",
              "169  1.0000  0.0000  0.0000  0.0000  0.0000  0.0000  0.0000  0.0000  0.0000   \n",
              "170  0.0000  0.0000  0.0000  0.2234  0.0001  0.0000  0.7756  0.0000  0.0000   \n",
              "171  1.0000  0.0000  0.0000  0.0000  0.0000  0.0000  0.0000  0.0000  0.0000   \n",
              "172  1.0000  0.0000  0.0000  0.0000  0.0000  0.0000  0.0000  0.0000  0.0000   \n",
              "173  0.9860  0.0000  0.0000  0.0000  0.0000  0.0000  0.0000  0.0140  0.0000   \n",
              "174  1.0000  0.0000  0.0000  0.0000  0.0000  0.0000  0.0000  0.0000  0.0000   \n",
              "175  0.0000  0.9972  0.0000  0.0000  0.0000  0.0000  0.0002  0.0000  0.0000   \n",
              "176  0.0000  1.0000  0.0000  0.0000  0.0000  0.0000  0.0000  0.0000  0.0000   \n",
              "177  0.0000  0.9998  0.0000  0.0000  0.0000  0.0001  0.0002  0.0000  0.0000   \n",
              "178  0.0000  0.4446  0.0000  0.0007  0.0000  0.5512  0.0014  0.0000  0.0000   \n",
              "179  0.9994  0.0000  0.0000  0.0000  0.0000  0.0000  0.0000  0.0000  0.0000   \n",
              "\n",
              "        328  \n",
              "0    0.0000  \n",
              "1    0.0000  \n",
              "2    0.0000  \n",
              "3    0.0000  \n",
              "4    0.0000  \n",
              "5    0.0000  \n",
              "6    0.0000  \n",
              "7    0.0000  \n",
              "8    0.0000  \n",
              "9    0.0000  \n",
              "10   0.0000  \n",
              "11   0.6017  \n",
              "12   0.0000  \n",
              "13   0.0000  \n",
              "14   0.0000  \n",
              "15   0.0000  \n",
              "16   0.0000  \n",
              "17   0.0000  \n",
              "18   0.0000  \n",
              "19   0.0000  \n",
              "20   0.0000  \n",
              "21   0.0000  \n",
              "22   0.0000  \n",
              "23   0.0000  \n",
              "24   0.0000  \n",
              "25   0.0000  \n",
              "26   0.0000  \n",
              "27   0.0000  \n",
              "28   0.0000  \n",
              "29   0.0000  \n",
              "..      ...  \n",
              "150  0.0000  \n",
              "151  0.0000  \n",
              "152  0.0000  \n",
              "153  0.0000  \n",
              "154  0.0000  \n",
              "155  0.0000  \n",
              "156  0.0000  \n",
              "157  0.0000  \n",
              "158  0.0000  \n",
              "159  0.0000  \n",
              "160  0.0000  \n",
              "161  0.0000  \n",
              "162  0.0000  \n",
              "163  0.0000  \n",
              "164  0.0000  \n",
              "165  0.0000  \n",
              "166  0.0000  \n",
              "167  0.0000  \n",
              "168  0.0000  \n",
              "169  0.0000  \n",
              "170  0.0000  \n",
              "171  0.0000  \n",
              "172  0.0000  \n",
              "173  0.0000  \n",
              "174  0.0000  \n",
              "175  0.0000  \n",
              "176  0.0000  \n",
              "177  0.0000  \n",
              "178  0.0000  \n",
              "179  0.0000  \n",
              "\n",
              "[180 rows x 10 columns]"
            ]
          },
          "metadata": {
            "tags": []
          },
          "execution_count": 22
        }
      ]
    },
    {
      "metadata": {
        "id": "H70aUWJI-Y-K",
        "colab_type": "code",
        "colab": {
          "autoexec": {
            "startup": false,
            "wait_interval": 0
          },
          "base_uri": "https://localhost:8080/",
          "height": 283
        },
        "outputId": "22d888a7-8530-4f39-9cef-5e66de2117af",
        "executionInfo": {
          "status": "ok",
          "timestamp": 1531706951378,
          "user_tz": 300,
          "elapsed": 466,
          "user": {
            "displayName": "sergi castel",
            "photoUrl": "//lh5.googleusercontent.com/-t7uPTy_PD5c/AAAAAAAAAAI/AAAAAAAABjU/YrQqLvCov5A/s50-c-k-no/photo.jpg",
            "userId": "104485759475975710875"
          }
        }
      },
      "cell_type": "code",
      "source": [
        "# Create confusion matrix(6 classes, 10 top classes)\n",
        "\n",
        "target_names = ['egr','man','owl','puf','tou','wod']\n",
        "\n",
        "confusionMatrix = pd.DataFrame(np.zeros(shape=(6,topIndex.shape[0])),columns=topIndex)\n",
        "yTestL = np.argmax(yTest,axis=1)\n",
        "for index, row in finalPred.iterrows():\n",
        "    maxClass=finalPred.iloc[index,:].argmax()\n",
        "    trueClass = yTestL[index]\n",
        "    confusionMatrix.loc[trueClass,maxClass]= confusionMatrix.loc[trueClass,maxClass]+1\n",
        "    a=0\n",
        "\n",
        "confusionMatrix.reset_index(level=0, inplace=True)\n",
        "\n",
        "def set_index(row):\n",
        "  if row['index']==0: return target_names[0]\n",
        "  elif   row['index']==1: return target_names[1]\n",
        "  elif   row['index']==2: return target_names[2]\n",
        "  elif   row['index']==3: return target_names[3]\n",
        "  elif   row['index']==4: return target_names[4]\n",
        "  else:  return target_names[5]\n",
        "    \n",
        "confusionMatrix=confusionMatrix.assign(index=confusionMatrix.apply(set_index,axis=1))\n",
        "confusionMatrix.columns.values[0]='Class'\n",
        "    \n",
        "confusionMatrix\n",
        "\n"
      ],
      "execution_count": 23,
      "outputs": [
        {
          "output_type": "stream",
          "text": [
            "/usr/local/lib/python3.6/dist-packages/ipykernel_launcher.py:7: FutureWarning: 'argmax' is deprecated. Use 'idxmax' instead. The behavior of 'argmax' will be corrected to return the positional maximum in the future. Use 'series.values.argmax' to get the position of the maximum now.\n",
            "  import sys\n"
          ],
          "name": "stderr"
        },
        {
          "output_type": "execute_result",
          "data": {
            "text/html": [
              "<div>\n",
              "<style scoped>\n",
              "    .dataframe tbody tr th:only-of-type {\n",
              "        vertical-align: middle;\n",
              "    }\n",
              "\n",
              "    .dataframe tbody tr th {\n",
              "        vertical-align: top;\n",
              "    }\n",
              "\n",
              "    .dataframe thead th {\n",
              "        text-align: right;\n",
              "    }\n",
              "</style>\n",
              "<table border=\"1\" class=\"dataframe\">\n",
              "  <thead>\n",
              "    <tr style=\"text-align: right;\">\n",
              "      <th></th>\n",
              "      <th>Class</th>\n",
              "      <th>659</th>\n",
              "      <th>722</th>\n",
              "      <th>772</th>\n",
              "      <th>652</th>\n",
              "      <th>398</th>\n",
              "      <th>679</th>\n",
              "      <th>680</th>\n",
              "      <th>781</th>\n",
              "      <th>520</th>\n",
              "      <th>328</th>\n",
              "    </tr>\n",
              "  </thead>\n",
              "  <tbody>\n",
              "    <tr>\n",
              "      <th>0</th>\n",
              "      <td>egr</td>\n",
              "      <td>14.0</td>\n",
              "      <td>7.0</td>\n",
              "      <td>2.0</td>\n",
              "      <td>1.0</td>\n",
              "      <td>1.0</td>\n",
              "      <td>0.0</td>\n",
              "      <td>0.0</td>\n",
              "      <td>1.0</td>\n",
              "      <td>1.0</td>\n",
              "      <td>2.0</td>\n",
              "    </tr>\n",
              "    <tr>\n",
              "      <th>1</th>\n",
              "      <td>man</td>\n",
              "      <td>6.0</td>\n",
              "      <td>24.0</td>\n",
              "      <td>1.0</td>\n",
              "      <td>1.0</td>\n",
              "      <td>0.0</td>\n",
              "      <td>0.0</td>\n",
              "      <td>1.0</td>\n",
              "      <td>0.0</td>\n",
              "      <td>0.0</td>\n",
              "      <td>0.0</td>\n",
              "    </tr>\n",
              "    <tr>\n",
              "      <th>2</th>\n",
              "      <td>owl</td>\n",
              "      <td>22.0</td>\n",
              "      <td>3.0</td>\n",
              "      <td>4.0</td>\n",
              "      <td>0.0</td>\n",
              "      <td>1.0</td>\n",
              "      <td>1.0</td>\n",
              "      <td>0.0</td>\n",
              "      <td>0.0</td>\n",
              "      <td>2.0</td>\n",
              "      <td>0.0</td>\n",
              "    </tr>\n",
              "    <tr>\n",
              "      <th>3</th>\n",
              "      <td>puf</td>\n",
              "      <td>21.0</td>\n",
              "      <td>8.0</td>\n",
              "      <td>0.0</td>\n",
              "      <td>2.0</td>\n",
              "      <td>1.0</td>\n",
              "      <td>1.0</td>\n",
              "      <td>1.0</td>\n",
              "      <td>0.0</td>\n",
              "      <td>0.0</td>\n",
              "      <td>0.0</td>\n",
              "    </tr>\n",
              "    <tr>\n",
              "      <th>4</th>\n",
              "      <td>tou</td>\n",
              "      <td>9.0</td>\n",
              "      <td>9.0</td>\n",
              "      <td>0.0</td>\n",
              "      <td>4.0</td>\n",
              "      <td>0.0</td>\n",
              "      <td>2.0</td>\n",
              "      <td>1.0</td>\n",
              "      <td>1.0</td>\n",
              "      <td>1.0</td>\n",
              "      <td>0.0</td>\n",
              "    </tr>\n",
              "    <tr>\n",
              "      <th>5</th>\n",
              "      <td>wod</td>\n",
              "      <td>9.0</td>\n",
              "      <td>9.0</td>\n",
              "      <td>2.0</td>\n",
              "      <td>0.0</td>\n",
              "      <td>2.0</td>\n",
              "      <td>0.0</td>\n",
              "      <td>0.0</td>\n",
              "      <td>1.0</td>\n",
              "      <td>0.0</td>\n",
              "      <td>1.0</td>\n",
              "    </tr>\n",
              "  </tbody>\n",
              "</table>\n",
              "</div>"
            ],
            "text/plain": [
              "  Class   659   722  772  652  398  679  680  781  520  328\n",
              "0   egr  14.0   7.0  2.0  1.0  1.0  0.0  0.0  1.0  1.0  2.0\n",
              "1   man   6.0  24.0  1.0  1.0  0.0  0.0  1.0  0.0  0.0  0.0\n",
              "2   owl  22.0   3.0  4.0  0.0  1.0  1.0  0.0  0.0  2.0  0.0\n",
              "3   puf  21.0   8.0  0.0  2.0  1.0  1.0  1.0  0.0  0.0  0.0\n",
              "4   tou   9.0   9.0  0.0  4.0  0.0  2.0  1.0  1.0  1.0  0.0\n",
              "5   wod   9.0   9.0  2.0  0.0  2.0  0.0  0.0  1.0  0.0  1.0"
            ]
          },
          "metadata": {
            "tags": []
          },
          "execution_count": 23
        }
      ]
    },
    {
      "metadata": {
        "id": "peFBesEc8HEu",
        "colab_type": "text"
      },
      "cell_type": "markdown",
      "source": [
        "\n",
        "**Discussion**\n",
        "\n",
        "In the first stage of the analysis, a neural network was built with only two layers, the first with 34 neurons and the second with 64, these incorporated convolutions, maxpooling and dropout of 50%, however the results were not optimal, so that parameters such as activation functions, dropout levels and different optimizers were adjusted. Even so, I did not improve the performance of the neural network, so that more layers were added, without obtaining better results in the classification results, as it is observed in the accuracy that was 0.23 and the confusion and reporting matrix. classification. The final neural network reached more than 5 million parameters. \n",
        "\n",
        "As seen in the graph, although the network is learning at an increasing rate, its accuracy does not exceed 0.3 in trainning, as the number of images is low as indicated above.\n",
        "\n",
        "In a second phase, XCEPTION was used as a pre-trained network, a deep convolutional neural network architecture inspired by Inception, with separable convolutions in depth, according to its authors, slightly exceeds Inception V3 in the ImageNet data set (for which Inception V3 was designed) and significantly exceeds Inception V3 in a larger image classification data set comprising 350 million images and 17,000 classes, achieving more efficient use of model parameters.\n",
        "\n",
        "From the results of this pre-trained neural network the classifications of our train images were obtained within the IMAGINET database, choosing those with greater probability and from these the confusion matrix was constructed, in which each class of bird in the sample, it is classified in one of the 10 IMAGINET images with greater probability.\n"
      ]
    },
    {
      "metadata": {
        "id": "0C3aUFiriyrH",
        "colab_type": "text"
      },
      "cell_type": "markdown",
      "source": [
        "# Transfer Learning\n",
        "We use the pre-trained CNN model as a feature extractor. The pretrained model was 'Xception'. We also replace the top part of the pretrained CNN with two layers of 256 and 6 neurons respectively."
      ]
    },
    {
      "metadata": {
        "id": "tlrFjvW7JYaR",
        "colab_type": "text"
      },
      "cell_type": "markdown",
      "source": [
        "## Xception Model\n",
        "\n",
        "Xception was proposed by none other than François Chollet himself, the creator and chief maintainer of the Keras library. Xception is an extension of the Inception architecture which replaces the standard Inception modules with depthwise separable convolutions.  Xception's structure is as follows.\n",
        "\n",
        "![Xception Structure](https://www.pyimagesearch.com/wp-content/uploads/2017/03/imagenet_xception_flow.png)\n"
      ]
    },
    {
      "metadata": {
        "id": "B0e8nqD2LL3v",
        "colab_type": "code",
        "colab": {
          "autoexec": {
            "startup": false,
            "wait_interval": 0
          }
        }
      },
      "cell_type": "code",
      "source": [
        "from keras import backend as K\n",
        "K.clear_session()"
      ],
      "execution_count": 0,
      "outputs": []
    },
    {
      "metadata": {
        "id": "Q2ol5JI3iyrI",
        "colab_type": "code",
        "colab": {
          "autoexec": {
            "startup": false,
            "wait_interval": 0
          }
        }
      },
      "cell_type": "code",
      "source": [
        "from keras.applications.xception import Xception\n",
        "from keras.applications.vgg16 import VGG16\n",
        "\n",
        "modelXceptionTF = Xception(weights='imagenet', include_top=False)"
      ],
      "execution_count": 0,
      "outputs": []
    },
    {
      "metadata": {
        "id": "roEe4Yh9iyrL",
        "colab_type": "code",
        "colab": {
          "autoexec": {
            "startup": false,
            "wait_interval": 0
          }
        }
      },
      "cell_type": "code",
      "source": [
        "# Pre-process X.\n",
        "newXtrain=modelXceptionTF.predict(xTrain)\n",
        "\n",
        "# Pre-process X.\n",
        "newXtest=modelXceptionTF.predict(xTest)"
      ],
      "execution_count": 0,
      "outputs": []
    },
    {
      "metadata": {
        "id": "5PLUnq9SiyrN",
        "colab_type": "code",
        "colab": {
          "autoexec": {
            "startup": false,
            "wait_interval": 0
          },
          "base_uri": "https://localhost:8080/",
          "height": 34
        },
        "outputId": "2e18df58-7767-4ebe-c0cd-fd2a6c53c16d",
        "executionInfo": {
          "status": "ok",
          "timestamp": 1531709252252,
          "user_tz": 300,
          "elapsed": 318,
          "user": {
            "displayName": "sergi castel",
            "photoUrl": "//lh5.googleusercontent.com/-t7uPTy_PD5c/AAAAAAAAAAI/AAAAAAAABjU/YrQqLvCov5A/s50-c-k-no/photo.jpg",
            "userId": "104485759475975710875"
          }
        }
      },
      "cell_type": "code",
      "source": [
        "newXtrain.shape"
      ],
      "execution_count": 16,
      "outputs": [
        {
          "output_type": "execute_result",
          "data": {
            "text/plain": [
              "(420, 10, 10, 2048)"
            ]
          },
          "metadata": {
            "tags": []
          },
          "execution_count": 16
        }
      ]
    },
    {
      "metadata": {
        "id": "meKYZzFgiyrP",
        "colab_type": "code",
        "colab": {
          "autoexec": {
            "startup": false,
            "wait_interval": 0
          },
          "base_uri": "https://localhost:8080/",
          "height": 325
        },
        "outputId": "c61a4e00-7a09-436f-9594-f4056dabec8a",
        "executionInfo": {
          "status": "ok",
          "timestamp": 1531709386498,
          "user_tz": 300,
          "elapsed": 374,
          "user": {
            "displayName": "sergi castel",
            "photoUrl": "//lh5.googleusercontent.com/-t7uPTy_PD5c/AAAAAAAAAAI/AAAAAAAABjU/YrQqLvCov5A/s50-c-k-no/photo.jpg",
            "userId": "104485759475975710875"
          }
        }
      },
      "cell_type": "code",
      "source": [
        "from keras.models import Sequential\n",
        "from keras.layers import Conv2D, MaxPooling2D\n",
        "from keras.layers import Activation, Dropout, Flatten, Dense\n",
        "from keras import backend as K\n",
        "import keras.optimizers as opts\n",
        "from livelossplot import PlotLossesKeras\n",
        "\n",
        "# Model structure.\n",
        "outputClasses = 6\n",
        "\n",
        "# Create the model. \n",
        "cnn_transfer = Sequential()\n",
        "\n",
        "# Apply a convolutional layer. \n",
        "cnn_transfer.add(Flatten(input_shape=newXtrain.shape[1:]))\n",
        "\n",
        "# Add the fully connected.\n",
        "cnn_transfer.add(Dense(256, activation='relu'))\n",
        "\n",
        "# Add a dropout.\n",
        "#cnn_transfer.add(Dropout(0.2))\n",
        "\n",
        "# Add the fully connected.\n",
        "cnn_transfer.add(Dense(outputClasses))\n",
        "\n",
        "# Add the activation softmax.\n",
        "cnn_transfer.add(Activation('softmax'))\n",
        "\n",
        "print(cnn_transfer.summary(70))\n",
        "\n",
        "# Compile the model. \n",
        "op=opts.Adam(lr=0.0001, epsilon=None, decay=0.0)\n",
        "cnn_transfer.compile(loss = 'categorical_crossentropy',\n",
        "              optimizer = op,\n",
        "              metrics = ['accuracy'])\n",
        "\n",
        "batch_size = 100\n",
        "epochs = 50\n",
        "\n",
        "trainingCNN_Transfer = cnn_transfer.fit(newXtrain, yTrain,\n",
        "                    batch_size=batch_size,\n",
        "                    epochs=epochs,\n",
        "                    verbose=1,\n",
        "                    shuffle = True, \n",
        "                    validation_split = 0.2,\n",
        "                    callbacks=[PlotLossesKeras()])\n"
      ],
      "execution_count": 19,
      "outputs": [
        {
          "output_type": "display_data",
          "data": {
            "image/png": "[encoded data removed]",
            "text/plain": [
              "<matplotlib.figure.Figure at 0x7f2d7d012390>"
            ]
          },
          "metadata": {
            "tags": []
          }
        }
      ]
    },
    {
      "metadata": {
        "id": "JGDF2QdMiyrY",
        "colab_type": "code",
        "colab": {
          "autoexec": {
            "startup": false,
            "wait_interval": 0
          },
          "base_uri": "https://localhost:8080/",
          "height": 123
        },
        "outputId": "0f3a71a4-3d2f-4211-87f0-bacabe3da5d2",
        "executionInfo": {
          "status": "ok",
          "timestamp": 1531709424253,
          "user_tz": 300,
          "elapsed": 621,
          "user": {
            "displayName": "sergi castel",
            "photoUrl": "//lh5.googleusercontent.com/-t7uPTy_PD5c/AAAAAAAAAAI/AAAAAAAABjU/YrQqLvCov5A/s50-c-k-no/photo.jpg",
            "userId": "104485759475975710875"
          }
        }
      },
      "cell_type": "code",
      "source": [
        "# Perform the neural network over the test set. \n",
        "print('Evaluating the test set...')\n",
        "score = cnn_transfer.evaluate(newXtest, yTest)\n",
        "\n",
        "print('\\nTest score:', score[0])\n",
        "print('Test accuracy:', score[1])\n",
        "Accu_Xception= score[1]\n",
        "Accu_Xception"
      ],
      "execution_count": 20,
      "outputs": [
        {
          "output_type": "stream",
          "text": [
            "Evaluating the test set...\n",
            "180/180 [==============================] - 0s 2ms/step\n",
            "\n",
            "Test score: 12.625841395060222\n",
            "Test accuracy: 0.21666666699780357\n"
          ],
          "name": "stdout"
        },
        {
          "output_type": "execute_result",
          "data": {
            "text/plain": [
              "0.21666666699780357"
            ]
          },
          "metadata": {
            "tags": []
          },
          "execution_count": 20
        }
      ]
    },
    {
      "metadata": {
        "id": "m2cegctiiyra",
        "colab_type": "code",
        "colab": {
          "autoexec": {
            "startup": false,
            "wait_interval": 0
          },
          "base_uri": "https://localhost:8080/",
          "height": 516
        },
        "outputId": "3e51fd06-860a-45df-e0e6-4b1b2ba2e25c",
        "executionInfo": {
          "status": "ok",
          "timestamp": 1531709430210,
          "user_tz": 300,
          "elapsed": 1599,
          "user": {
            "displayName": "sergi castel",
            "photoUrl": "//lh5.googleusercontent.com/-t7uPTy_PD5c/AAAAAAAAAAI/AAAAAAAABjU/YrQqLvCov5A/s50-c-k-no/photo.jpg",
            "userId": "104485759475975710875"
          }
        }
      },
      "cell_type": "code",
      "source": [
        "from sklearn.metrics import confusion_matrix,classification_report\n",
        "import pandas as pd\n",
        "import numpy as np\n",
        "\n",
        "# Set the classes' names.\n",
        "target_names = ['egr','man','owl','puf','tou','wod']\n",
        "\n",
        "# Predict class in test.\n",
        "Y_pred = cnn_transfer.predict(newXtest)\n",
        "\n",
        "# Choose the class with higher probability.\n",
        "y_pred = np.argmax(Y_pred, axis=1)\n",
        "\n",
        "print('-------------------------------------------------')\n",
        "print('-------------------------------------------------')\n",
        "print('-----------------Confusion Matrix----------------')\n",
        "print(pd.DataFrame(confusion_matrix(yTest.argmax(axis=1), y_pred),columns=target_names, index=target_names))\n",
        "print('-------------------------------------------------')\n",
        "print('-------------------------------------------------\\n')\n",
        "print('---------------Classification Report-------------')\n",
        "\n",
        "print(classification_report(yTest.argmax(axis=1), y_pred, target_names=target_names))"
      ],
      "execution_count": 21,
      "outputs": [
        {
          "output_type": "stream",
          "text": [
            "-------------------------------------------------\n",
            "-------------------------------------------------\n",
            "-----------------Confusion Matrix----------------\n",
            "     egr  man  owl  puf  tou  wod\n",
            "egr    0    0    0    1   17   11\n",
            "man    0    0    0    0   12   21\n",
            "owl    0    0    0    0   18   15\n",
            "puf    0    0    0    1   13   20\n",
            "tou    0    0    0    0   20    7\n",
            "wod    0    0    0    0    6   18\n",
            "-------------------------------------------------\n",
            "-------------------------------------------------\n",
            "\n",
            "---------------Classification Report-------------\n",
            "             precision    recall  f1-score   support\n",
            "\n",
            "        egr       0.00      0.00      0.00        29\n",
            "        man       0.00      0.00      0.00        33\n",
            "        owl       0.00      0.00      0.00        33\n",
            "        puf       0.50      0.03      0.06        34\n",
            "        tou       0.23      0.74      0.35        27\n",
            "        wod       0.20      0.75      0.31        24\n",
            "\n",
            "avg / total       0.16      0.22      0.10       180\n",
            "\n"
          ],
          "name": "stdout"
        },
        {
          "output_type": "stream",
          "text": [
            "/usr/local/lib/python3.6/dist-packages/sklearn/metrics/classification.py:1135: UndefinedMetricWarning: Precision and F-score are ill-defined and being set to 0.0 in labels with no predicted samples.\n",
            "  'precision', 'predicted', average, warn_for)\n"
          ],
          "name": "stderr"
        }
      ]
    },
    {
      "metadata": {
        "id": "08kuwcAZJoL9",
        "colab_type": "text"
      },
      "cell_type": "markdown",
      "source": [
        "## VGG16 Model\n",
        "\n",
        "The VGG network architecture was introduced by Simonyan and Zisserman in their 2014 paper, Very Deep Convolutional Networks for Large Scale Image Recognition. This network is characterized by its simplicity, using only 3×3 convolutional layers stacked on top of each other in increasing depth. Reducing volume size is handled by max pooling. Two fully-connected layers, each with 4,096 nodes are then followed by a softmax classifier (above).\n",
        "\n",
        "![Xception Structure](https://www.pyimagesearch.com/wp-content/uploads/2017/03/imagenet_vgg16.png)\n"
      ]
    },
    {
      "metadata": {
        "id": "SeefKI3OI0wX",
        "colab_type": "code",
        "colab": {
          "autoexec": {
            "startup": false,
            "wait_interval": 0
          },
          "base_uri": "https://localhost:8080/",
          "height": 52
        },
        "outputId": "7f01ce1c-55f6-4948-f8a6-11048bf7785d",
        "executionInfo": {
          "status": "ok",
          "timestamp": 1531709440895,
          "user_tz": 300,
          "elapsed": 6721,
          "user": {
            "displayName": "sergi castel",
            "photoUrl": "//lh5.googleusercontent.com/-t7uPTy_PD5c/AAAAAAAAAAI/AAAAAAAABjU/YrQqLvCov5A/s50-c-k-no/photo.jpg",
            "userId": "104485759475975710875"
          }
        }
      },
      "cell_type": "code",
      "source": [
        "from keras.applications.xception import Xception\n",
        "from keras.applications.vgg16 import VGG16\n",
        "\n",
        "modelXceptionTF = VGG16(weights='imagenet', include_top=False)"
      ],
      "execution_count": 22,
      "outputs": [
        {
          "output_type": "stream",
          "text": [
            "Downloading data from https://github.com/fchollet/deep-learning-models/releases/download/v0.1/vgg16_weights_tf_dim_ordering_tf_kernels_notop.h5\n",
            "58892288/58889256 [==============================] - 2s 0us/step\n"
          ],
          "name": "stdout"
        }
      ]
    },
    {
      "metadata": {
        "id": "RhtCIkp3I7tJ",
        "colab_type": "code",
        "colab": {
          "autoexec": {
            "startup": false,
            "wait_interval": 0
          }
        }
      },
      "cell_type": "code",
      "source": [
        "# Pre-process X.\n",
        "newXtrain=modelXceptionTF.predict(xTrain)\n",
        "\n",
        "# Pre-process X.\n",
        "newXtest=modelXceptionTF.predict(xTest)"
      ],
      "execution_count": 0,
      "outputs": []
    },
    {
      "metadata": {
        "id": "QLpIu0LII0zn",
        "colab_type": "code",
        "colab": {
          "autoexec": {
            "startup": false,
            "wait_interval": 0
          },
          "base_uri": "https://localhost:8080/",
          "height": 34
        },
        "outputId": "35346f1b-a973-46ca-cea5-40fb22069043",
        "executionInfo": {
          "status": "ok",
          "timestamp": 1531709461039,
          "user_tz": 300,
          "elapsed": 325,
          "user": {
            "displayName": "sergi castel",
            "photoUrl": "//lh5.googleusercontent.com/-t7uPTy_PD5c/AAAAAAAAAAI/AAAAAAAABjU/YrQqLvCov5A/s50-c-k-no/photo.jpg",
            "userId": "104485759475975710875"
          }
        }
      },
      "cell_type": "code",
      "source": [
        "newXtrain.shape"
      ],
      "execution_count": 24,
      "outputs": [
        {
          "output_type": "execute_result",
          "data": {
            "text/plain": [
              "(420, 9, 9, 512)"
            ]
          },
          "metadata": {
            "tags": []
          },
          "execution_count": 24
        }
      ]
    },
    {
      "metadata": {
        "id": "9NziI7psI02s",
        "colab_type": "code",
        "colab": {
          "autoexec": {
            "startup": false,
            "wait_interval": 0
          },
          "base_uri": "https://localhost:8080/",
          "height": 325
        },
        "outputId": "59984d31-3fce-41a8-f645-298fba83064a",
        "executionInfo": {
          "status": "ok",
          "timestamp": 1531709535032,
          "user_tz": 300,
          "elapsed": 174,
          "user": {
            "displayName": "sergi castel",
            "photoUrl": "//lh5.googleusercontent.com/-t7uPTy_PD5c/AAAAAAAAAAI/AAAAAAAABjU/YrQqLvCov5A/s50-c-k-no/photo.jpg",
            "userId": "104485759475975710875"
          }
        }
      },
      "cell_type": "code",
      "source": [
        "from keras.models import Sequential\n",
        "from keras.layers import Conv2D, MaxPooling2D\n",
        "from keras.layers import Activation, Dropout, Flatten, Dense\n",
        "from keras import backend as K\n",
        "import keras.optimizers as opts\n",
        "from livelossplot import PlotLossesKeras\n",
        "\n",
        "# Model structure.\n",
        "outputClasses = 6\n",
        "\n",
        "# Create the model. \n",
        "cnn_transfer = Sequential()\n",
        "\n",
        "# Apply a convolutional layer. \n",
        "cnn_transfer.add(Flatten(input_shape=newXtrain.shape[1:]))\n",
        "\n",
        "# Add the fully connected.\n",
        "cnn_transfer.add(Dense(256, activation='relu'))\n",
        "\n",
        "# Add a dropout.\n",
        "cnn_transfer.add(Dropout(0.6))\n",
        "\n",
        "# Add the fully connected.\n",
        "cnn_transfer.add(Dense(outputClasses))\n",
        "\n",
        "# Add the activation softmax.\n",
        "cnn_transfer.add(Activation('softmax'))\n",
        "\n",
        "print(cnn_transfer.summary(70))\n",
        "\n",
        "# Compile the model. \n",
        "op=opts.Adam(lr=0.0001,epsilon=None, decay=0.0)\n",
        "cnn_transfer.compile(loss = 'categorical_crossentropy',\n",
        "              optimizer = op,\n",
        "              metrics = ['accuracy'])\n",
        "\n",
        "batch_size = 150\n",
        "epochs = 50\n",
        "\n",
        "trainingCNN_Transfer = cnn_transfer.fit(newXtrain, yTrain,\n",
        "                    batch_size=batch_size,\n",
        "                    epochs=epochs,\n",
        "                    verbose=1,\n",
        "                    shuffle = True, \n",
        "                    validation_split = 0.15,\n",
        "                    callbacks=[PlotLossesKeras()])\n"
      ],
      "execution_count": 26,
      "outputs": [
        {
          "output_type": "display_data",
          "data": {
            "image/png": "[encoded data removed]",
            "text/plain": [
              "<matplotlib.figure.Figure at 0x7f2d1b2fd048>"
            ]
          },
          "metadata": {
            "tags": []
          }
        }
      ]
    },
    {
      "metadata": {
        "id": "0PO9JeTNI06B",
        "colab_type": "code",
        "colab": {
          "autoexec": {
            "startup": false,
            "wait_interval": 0
          },
          "base_uri": "https://localhost:8080/",
          "height": 123
        },
        "outputId": "6e966bea-4925-47e8-cd0d-6d073dee419e",
        "executionInfo": {
          "status": "ok",
          "timestamp": 1531709539862,
          "user_tz": 300,
          "elapsed": 343,
          "user": {
            "displayName": "sergi castel",
            "photoUrl": "//lh5.googleusercontent.com/-t7uPTy_PD5c/AAAAAAAAAAI/AAAAAAAABjU/YrQqLvCov5A/s50-c-k-no/photo.jpg",
            "userId": "104485759475975710875"
          }
        }
      },
      "cell_type": "code",
      "source": [
        "# Perform the neural network over the test set. \n",
        "print('Evaluating the test set...')\n",
        "score = cnn_transfer.evaluate(newXtest, yTest)\n",
        "\n",
        "print('\\nTest score:', score[0])\n",
        "print('Test accuracy:', score[1])\n",
        "\n",
        "Accu_VGG16=score[1]\n",
        "Accu_VGG16"
      ],
      "execution_count": 27,
      "outputs": [
        {
          "output_type": "stream",
          "text": [
            "Evaluating the test set...\n",
            "180/180 [==============================] - 0s 547us/step\n",
            "\n",
            "Test score: 0.5486489140621365\n",
            "Test accuracy: 0.9388888888888889\n"
          ],
          "name": "stdout"
        },
        {
          "output_type": "execute_result",
          "data": {
            "text/plain": [
              "0.9388888888888889"
            ]
          },
          "metadata": {
            "tags": []
          },
          "execution_count": 27
        }
      ]
    },
    {
      "metadata": {
        "id": "oAndurTlI09p",
        "colab_type": "code",
        "colab": {
          "autoexec": {
            "startup": false,
            "wait_interval": 0
          },
          "base_uri": "https://localhost:8080/",
          "height": 461
        },
        "outputId": "0765bb43-eaa8-4c2d-bd39-282199c601bd",
        "executionInfo": {
          "status": "ok",
          "timestamp": 1531709544414,
          "user_tz": 300,
          "elapsed": 1861,
          "user": {
            "displayName": "sergi castel",
            "photoUrl": "//lh5.googleusercontent.com/-t7uPTy_PD5c/AAAAAAAAAAI/AAAAAAAABjU/YrQqLvCov5A/s50-c-k-no/photo.jpg",
            "userId": "104485759475975710875"
          }
        }
      },
      "cell_type": "code",
      "source": [
        "from sklearn.metrics import confusion_matrix,classification_report\n",
        "import pandas as pd\n",
        "import numpy as np\n",
        "\n",
        "# Set the classes' names.\n",
        "target_names = ['egr','man','owl','puf','tou','wod']\n",
        "\n",
        "# Predict class in test.\n",
        "Y_pred = cnn_transfer.predict(newXtest)\n",
        "\n",
        "# Choose the class with higher probability.\n",
        "y_pred = np.argmax(Y_pred, axis=1)\n",
        "\n",
        "print('-------------------------------------------------')\n",
        "print('-------------------------------------------------')\n",
        "print('-----------------Confusion Matrix----------------')\n",
        "print(pd.DataFrame(confusion_matrix(yTest.argmax(axis=1), y_pred),columns=target_names, index=target_names))\n",
        "print('-------------------------------------------------')\n",
        "print('-------------------------------------------------\\n')\n",
        "print('---------------Classification Report-------------')\n",
        "\n",
        "print(classification_report(yTest.argmax(axis=1), y_pred, target_names=target_names))"
      ],
      "execution_count": 28,
      "outputs": [
        {
          "output_type": "stream",
          "text": [
            "-------------------------------------------------\n",
            "-------------------------------------------------\n",
            "-----------------Confusion Matrix----------------\n",
            "     egr  man  owl  puf  tou  wod\n",
            "egr   28    0    1    0    0    0\n",
            "man    0   28    0    0    0    5\n",
            "owl    0    0   33    0    0    0\n",
            "puf    0    2    0   29    1    2\n",
            "tou    0    0    0    0   27    0\n",
            "wod    0    0    0    0    0   24\n",
            "-------------------------------------------------\n",
            "-------------------------------------------------\n",
            "\n",
            "---------------Classification Report-------------\n",
            "             precision    recall  f1-score   support\n",
            "\n",
            "        egr       1.00      0.97      0.98        29\n",
            "        man       0.93      0.85      0.89        33\n",
            "        owl       0.97      1.00      0.99        33\n",
            "        puf       1.00      0.85      0.92        34\n",
            "        tou       0.96      1.00      0.98        27\n",
            "        wod       0.77      1.00      0.87        24\n",
            "\n",
            "avg / total       0.95      0.94      0.94       180\n",
            "\n"
          ],
          "name": "stdout"
        }
      ]
    },
    {
      "metadata": {
        "id": "kupedClOYx51",
        "colab_type": "text"
      },
      "cell_type": "markdown",
      "source": [
        "## ResNet50 Model\n",
        "\n",
        "Unlike traditional sequential network architectures such as AlexNet, OverFeat, and VGG, ResNet is instead a form of “exotic architecture” that relies on micro-architecture modules (also called “network-in-network architectures”).\n",
        "\n",
        "The term micro-architecture refers to the set of “building blocks” used to construct the network. A collection of micro-architecture building blocks (along with your standard CONV, POOL, etc. layers) leads to the macro-architecture (i.e,. the end network itself).\n",
        "\n",
        "First introduced by He et al. in their 2015 paper, Deep Residual Learning for Image Recognition, the ResNet architecture has become a seminal work, demonstrating that extremely deep networks can be trained using standard SGD (and a reasonable initialization function) through the use of residual modules:\n",
        "\n",
        "![Xception Structure](https://www.pyimagesearch.com/wp-content/uploads/2017/03/imagenet_resnet_residual.png)\n",
        "\n",
        "Even though ResNet is much deeper than VGG16 and VGG19, the model size is actually substantially smaller due to the usage of global average pooling rather than fully-connected layers — this reduces the model size down to 102MB for ResNet50."
      ]
    },
    {
      "metadata": {
        "id": "wo-A9HAXX66Q",
        "colab_type": "code",
        "colab": {
          "autoexec": {
            "startup": false,
            "wait_interval": 0
          },
          "base_uri": "https://localhost:8080/",
          "height": 52
        },
        "outputId": "58cdea92-594b-448a-c22f-37a04a85d8a1",
        "executionInfo": {
          "status": "ok",
          "timestamp": 1531709571598,
          "user_tz": 300,
          "elapsed": 24981,
          "user": {
            "displayName": "sergi castel",
            "photoUrl": "//lh5.googleusercontent.com/-t7uPTy_PD5c/AAAAAAAAAAI/AAAAAAAABjU/YrQqLvCov5A/s50-c-k-no/photo.jpg",
            "userId": "104485759475975710875"
          }
        }
      },
      "cell_type": "code",
      "source": [
        "from keras.applications.resnet50 import ResNet50\n",
        "\n",
        "modelXceptionTF = ResNet50(weights='imagenet', include_top=False)"
      ],
      "execution_count": 29,
      "outputs": [
        {
          "output_type": "stream",
          "text": [
            "Downloading data from https://github.com/fchollet/deep-learning-models/releases/download/v0.2/resnet50_weights_tf_dim_ordering_tf_kernels_notop.h5\n",
            "94658560/94653016 [==============================] - 3s 0us/step\n"
          ],
          "name": "stdout"
        }
      ]
    },
    {
      "metadata": {
        "id": "sbGqDyixY3VH",
        "colab_type": "code",
        "colab": {
          "autoexec": {
            "startup": false,
            "wait_interval": 0
          }
        }
      },
      "cell_type": "code",
      "source": [
        "# Pre-process X.\n",
        "newXtrain=modelXceptionTF.predict(xTrain)\n",
        "\n",
        "# Pre-process X.\n",
        "newXtest=modelXceptionTF.predict(xTest)"
      ],
      "execution_count": 0,
      "outputs": []
    },
    {
      "metadata": {
        "id": "CCouDNUWY3RD",
        "colab_type": "code",
        "colab": {
          "autoexec": {
            "startup": false,
            "wait_interval": 0
          },
          "base_uri": "https://localhost:8080/",
          "height": 34
        },
        "outputId": "1715dd73-e452-4f8b-f965-b2a7cfc19321",
        "executionInfo": {
          "status": "ok",
          "timestamp": 1531709591033,
          "user_tz": 300,
          "elapsed": 335,
          "user": {
            "displayName": "sergi castel",
            "photoUrl": "//lh5.googleusercontent.com/-t7uPTy_PD5c/AAAAAAAAAAI/AAAAAAAABjU/YrQqLvCov5A/s50-c-k-no/photo.jpg",
            "userId": "104485759475975710875"
          }
        }
      },
      "cell_type": "code",
      "source": [
        "newXtrain.shape"
      ],
      "execution_count": 31,
      "outputs": [
        {
          "output_type": "execute_result",
          "data": {
            "text/plain": [
              "(420, 1, 1, 2048)"
            ]
          },
          "metadata": {
            "tags": []
          },
          "execution_count": 31
        }
      ]
    },
    {
      "metadata": {
        "id": "6VX4mfPfY3NF",
        "colab_type": "code",
        "colab": {
          "autoexec": {
            "startup": false,
            "wait_interval": 0
          },
          "base_uri": "https://localhost:8080/",
          "height": 325
        },
        "outputId": "e434839d-8c4b-4929-9cd5-5300113b7ccb",
        "executionInfo": {
          "status": "ok",
          "timestamp": 1531709633506,
          "user_tz": 300,
          "elapsed": 284,
          "user": {
            "displayName": "sergi castel",
            "photoUrl": "//lh5.googleusercontent.com/-t7uPTy_PD5c/AAAAAAAAAAI/AAAAAAAABjU/YrQqLvCov5A/s50-c-k-no/photo.jpg",
            "userId": "104485759475975710875"
          }
        }
      },
      "cell_type": "code",
      "source": [
        "from keras.models import Sequential\n",
        "from keras.layers import Conv2D, MaxPooling2D\n",
        "from keras.layers import Activation, Dropout, Flatten, Dense\n",
        "from keras import backend as K\n",
        "import keras.optimizers as opts\n",
        "from livelossplot import PlotLossesKeras\n",
        "\n",
        "# Model structure.\n",
        "outputClasses = 6\n",
        "\n",
        "# Create the model. \n",
        "cnn_transfer = Sequential()\n",
        "\n",
        "# Apply a convolutional layer. \n",
        "cnn_transfer.add(Flatten(input_shape=newXtrain.shape[1:]))\n",
        "\n",
        "# Add the fully connected.\n",
        "cnn_transfer.add(Dense(256, activation='relu'))\n",
        "\n",
        "# Add a dropout.\n",
        "cnn_transfer.add(Dropout(0.5))\n",
        "\n",
        "# Add the fully connected.\n",
        "cnn_transfer.add(Dense(outputClasses))\n",
        "\n",
        "# Add the activation softmax.\n",
        "cnn_transfer.add(Activation('softmax'))\n",
        "\n",
        "print(cnn_transfer.summary(70))\n",
        "\n",
        "# Compile the model. \n",
        "op=opts.Adam(lr=0.0001, epsilon=None, decay=0.0)\n",
        "cnn_transfer.compile(loss = 'categorical_crossentropy',\n",
        "              optimizer = op,\n",
        "              metrics = ['accuracy'])\n",
        "\n",
        "batch_size = 100\n",
        "epochs = 50\n",
        "\n",
        "trainingCNN_Transfer = cnn_transfer.fit(newXtrain, yTrain,\n",
        "                    batch_size=batch_size,\n",
        "                    epochs=epochs,\n",
        "                    verbose=1,\n",
        "                    shuffle = True, \n",
        "                    validation_split = 0.2,\n",
        "                    callbacks=[PlotLossesKeras()])"
      ],
      "execution_count": 32,
      "outputs": [
        {
          "output_type": "display_data",
          "data": {
            "image/png": "[encoded data removed]",
            "text/plain": [
              "<matplotlib.figure.Figure at 0x7f2d14d91278>"
            ]
          },
          "metadata": {
            "tags": []
          }
        }
      ]
    },
    {
      "metadata": {
        "id": "AsrwL765Y3Kp",
        "colab_type": "code",
        "colab": {
          "autoexec": {
            "startup": false,
            "wait_interval": 0
          },
          "base_uri": "https://localhost:8080/",
          "height": 123
        },
        "outputId": "72ee31dd-8dc2-4a71-b91b-b5e66c97c96f",
        "executionInfo": {
          "status": "ok",
          "timestamp": 1531709644023,
          "user_tz": 300,
          "elapsed": 1682,
          "user": {
            "displayName": "sergi castel",
            "photoUrl": "//lh5.googleusercontent.com/-t7uPTy_PD5c/AAAAAAAAAAI/AAAAAAAABjU/YrQqLvCov5A/s50-c-k-no/photo.jpg",
            "userId": "104485759475975710875"
          }
        }
      },
      "cell_type": "code",
      "source": [
        "# Perform the neural network over the test set. \n",
        "print('Evaluating the test set...')\n",
        "score = cnn_transfer.evaluate(newXtest, yTest)\n",
        "\n",
        "print('\\nTest score:', score[0])\n",
        "print('Test accuracy:', score[1])\n",
        "Accu_RestNet=score[1]\n",
        "Accu_RestNet"
      ],
      "execution_count": 33,
      "outputs": [
        {
          "output_type": "stream",
          "text": [
            "Evaluating the test set...\n",
            "180/180 [==============================] - 0s 222us/step\n",
            "\n",
            "Test score: 0.08096052358547846\n",
            "Test accuracy: 0.9722222222222222\n"
          ],
          "name": "stdout"
        },
        {
          "output_type": "execute_result",
          "data": {
            "text/plain": [
              "0.9722222222222222"
            ]
          },
          "metadata": {
            "tags": []
          },
          "execution_count": 33
        }
      ]
    },
    {
      "metadata": {
        "id": "MRwbg7Npc7SG",
        "colab_type": "code",
        "colab": {
          "autoexec": {
            "startup": false,
            "wait_interval": 0
          },
          "base_uri": "https://localhost:8080/",
          "height": 461
        },
        "outputId": "9e47a8b0-5c4d-404e-867a-b4ed5521883c",
        "executionInfo": {
          "status": "ok",
          "timestamp": 1531709651771,
          "user_tz": 300,
          "elapsed": 3379,
          "user": {
            "displayName": "sergi castel",
            "photoUrl": "//lh5.googleusercontent.com/-t7uPTy_PD5c/AAAAAAAAAAI/AAAAAAAABjU/YrQqLvCov5A/s50-c-k-no/photo.jpg",
            "userId": "104485759475975710875"
          }
        }
      },
      "cell_type": "code",
      "source": [
        "from sklearn.metrics import confusion_matrix,classification_report\n",
        "import pandas as pd\n",
        "import numpy as np\n",
        "\n",
        "# Set the classes' names.\n",
        "target_names = ['egr','man','owl','puf','tou','wod']\n",
        "\n",
        "# Predict class in test.\n",
        "Y_pred = cnn_transfer.predict(newXtest)\n",
        "\n",
        "# Choose the class with higher probability.\n",
        "y_pred = np.argmax(Y_pred, axis=1)\n",
        "\n",
        "print('-------------------------------------------------')\n",
        "print('-------------------------------------------------')\n",
        "print('-----------------Confusion Matrix----------------')\n",
        "print(pd.DataFrame(confusion_matrix(yTest.argmax(axis=1), y_pred),columns=target_names, index=target_names))\n",
        "print('-------------------------------------------------')\n",
        "print('-------------------------------------------------\\n')\n",
        "print('---------------Classification Report-------------')\n",
        "\n",
        "print(classification_report(yTest.argmax(axis=1), y_pred, target_names=target_names))"
      ],
      "execution_count": 34,
      "outputs": [
        {
          "output_type": "stream",
          "text": [
            "-------------------------------------------------\n",
            "-------------------------------------------------\n",
            "-----------------Confusion Matrix----------------\n",
            "     egr  man  owl  puf  tou  wod\n",
            "egr   29    0    0    0    0    0\n",
            "man    0   30    0    0    0    3\n",
            "owl    0    0   33    0    0    0\n",
            "puf    0    1    0   33    0    0\n",
            "tou    0    0    0    0   26    1\n",
            "wod    0    0    0    0    0   24\n",
            "-------------------------------------------------\n",
            "-------------------------------------------------\n",
            "\n",
            "---------------Classification Report-------------\n",
            "             precision    recall  f1-score   support\n",
            "\n",
            "        egr       1.00      1.00      1.00        29\n",
            "        man       0.97      0.91      0.94        33\n",
            "        owl       1.00      1.00      1.00        33\n",
            "        puf       1.00      0.97      0.99        34\n",
            "        tou       1.00      0.96      0.98        27\n",
            "        wod       0.86      1.00      0.92        24\n",
            "\n",
            "avg / total       0.98      0.97      0.97       180\n",
            "\n"
          ],
          "name": "stdout"
        }
      ]
    },
    {
      "metadata": {
        "id": "uK1HJAmHncUB",
        "colab_type": "text"
      },
      "cell_type": "markdown",
      "source": [
        "## InceptionV3 Model\n",
        "\n",
        "The “Inception” micro-architecture was first introduced by Szegedy et al. in their 2014 paper, Going Deeper with Convolutions:\n",
        "\n",
        "![Xception Structure](https://www.pyimagesearch.com/wp-content/uploads/2017/03/imagenet_inception_module.png)\n",
        "\n",
        "The goal of the inception module is to act as a “multi-level feature extractor” by computing 1×1, 3×3, and 5×5 convolutions within the same module of the network — the output of these filters are then stacked along the channel dimension and before being fed into the next layer in the network.\n",
        "\n",
        "The original incarnation of this architecture was called GoogLeNet, but subsequent manifestations have simply been called Inception vN where N refers to the version number put out by Google.\n",
        "\n",
        "The Inception V3 architecture included in the Keras core comes from the later publication by Szegedy et al., Rethinking the Inception Architecture for Computer Vision (2015) which proposes updates to the inception module to further boost ImageNet classification accuracy.\n",
        "\n",
        "The weights for Inception V3 are smaller than both VGG and ResNet, coming in at 96MB."
      ]
    },
    {
      "metadata": {
        "id": "M-EhYdCKmo75",
        "colab_type": "code",
        "colab": {
          "autoexec": {
            "startup": false,
            "wait_interval": 0
          },
          "base_uri": "https://localhost:8080/",
          "height": 52
        },
        "outputId": "b0a28c8a-5248-4f5d-d5c2-6ddf5314de54",
        "executionInfo": {
          "status": "ok",
          "timestamp": 1531709705980,
          "user_tz": 300,
          "elapsed": 34085,
          "user": {
            "displayName": "sergi castel",
            "photoUrl": "//lh5.googleusercontent.com/-t7uPTy_PD5c/AAAAAAAAAAI/AAAAAAAABjU/YrQqLvCov5A/s50-c-k-no/photo.jpg",
            "userId": "104485759475975710875"
          }
        }
      },
      "cell_type": "code",
      "source": [
        "from keras.applications.inception_v3 import InceptionV3\n",
        "\n",
        "modelXceptionTF = InceptionV3(weights='imagenet', include_top=False)"
      ],
      "execution_count": 35,
      "outputs": [
        {
          "output_type": "stream",
          "text": [
            "Downloading data from https://github.com/fchollet/deep-learning-models/releases/download/v0.5/inception_v3_weights_tf_dim_ordering_tf_kernels_notop.h5\n",
            "87916544/87910968 [==============================] - 3s 0us/step\n"
          ],
          "name": "stdout"
        }
      ]
    },
    {
      "metadata": {
        "id": "l9usL0SImo3W",
        "colab_type": "code",
        "colab": {
          "autoexec": {
            "startup": false,
            "wait_interval": 0
          }
        }
      },
      "cell_type": "code",
      "source": [
        "# Pre-process X.\n",
        "newXtrain=modelXceptionTF.predict(xTrain)\n",
        "\n",
        "# Pre-process X.\n",
        "newXtest=modelXceptionTF.predict(xTest)"
      ],
      "execution_count": 0,
      "outputs": []
    },
    {
      "metadata": {
        "id": "LeKkpJVqmosZ",
        "colab_type": "code",
        "colab": {
          "autoexec": {
            "startup": false,
            "wait_interval": 0
          },
          "base_uri": "https://localhost:8080/",
          "height": 34
        },
        "outputId": "90f8c024-1519-4433-f35d-bb839ef067b8",
        "executionInfo": {
          "status": "ok",
          "timestamp": 1531709724227,
          "user_tz": 300,
          "elapsed": 1495,
          "user": {
            "displayName": "sergi castel",
            "photoUrl": "//lh5.googleusercontent.com/-t7uPTy_PD5c/AAAAAAAAAAI/AAAAAAAABjU/YrQqLvCov5A/s50-c-k-no/photo.jpg",
            "userId": "104485759475975710875"
          }
        }
      },
      "cell_type": "code",
      "source": [
        "newXtrain.shape"
      ],
      "execution_count": 37,
      "outputs": [
        {
          "output_type": "execute_result",
          "data": {
            "text/plain": [
              "(420, 8, 8, 2048)"
            ]
          },
          "metadata": {
            "tags": []
          },
          "execution_count": 37
        }
      ]
    },
    {
      "metadata": {
        "id": "Sd4NcVqBmoco",
        "colab_type": "code",
        "colab": {
          "autoexec": {
            "startup": false,
            "wait_interval": 0
          },
          "base_uri": "https://localhost:8080/",
          "height": 325
        },
        "outputId": "aa30ac35-1e82-4546-c47d-3e74451f1eae",
        "executionInfo": {
          "status": "ok",
          "timestamp": 1531709984411,
          "user_tz": 300,
          "elapsed": 613,
          "user": {
            "displayName": "sergi castel",
            "photoUrl": "//lh5.googleusercontent.com/-t7uPTy_PD5c/AAAAAAAAAAI/AAAAAAAABjU/YrQqLvCov5A/s50-c-k-no/photo.jpg",
            "userId": "104485759475975710875"
          }
        }
      },
      "cell_type": "code",
      "source": [
        "from keras.models import Sequential\n",
        "from keras.layers import Conv2D, MaxPooling2D\n",
        "from keras.layers import Activation, Dropout, Flatten, Dense\n",
        "from keras import backend as K\n",
        "import keras.optimizers as opts\n",
        "from livelossplot import PlotLossesKeras\n",
        "\n",
        "# Model structure.\n",
        "outputClasses = 6\n",
        "\n",
        "# Create the model. \n",
        "cnn_transfer = Sequential()\n",
        "\n",
        "# Apply a convolutional layer. \n",
        "cnn_transfer.add(Flatten(input_shape=newXtrain.shape[1:]))\n",
        "\n",
        "# Add the fully connected.\n",
        "cnn_transfer.add(Dense(256, activation='relu'))\n",
        "\n",
        "# Add a dropout.\n",
        "#cnn_transfer.add(Dropout(0.2))\n",
        "\n",
        "# Add the fully connected.\n",
        "cnn_transfer.add(Dense(outputClasses))\n",
        "\n",
        "# Add the activation softmax.\n",
        "cnn_transfer.add(Activation('softmax'))\n",
        "\n",
        "print(cnn_transfer.summary(70))\n",
        "\n",
        "# Compile the model. \n",
        "op=opts.adam(lr=0.0001, decay=0.0)\n",
        "cnn_transfer.compile(loss = 'categorical_crossentropy',\n",
        "              optimizer = op,\n",
        "              metrics = ['accuracy'])\n",
        "\n",
        "batch_size = 200\n",
        "epochs = 50\n",
        "\n",
        "trainingCNN_Transfer = cnn_transfer.fit(newXtrain, yTrain,\n",
        "                    batch_size=batch_size,\n",
        "                    epochs=epochs,\n",
        "                    verbose=1,\n",
        "                    shuffle = True, \n",
        "                    validation_split = 0.2,\n",
        "                    callbacks=[PlotLossesKeras()])"
      ],
      "execution_count": 45,
      "outputs": [
        {
          "output_type": "display_data",
          "data": {
            "image/png": "[encoded data removed]",
            "text/plain": [
              "<matplotlib.figure.Figure at 0x7f2d126a15c0>"
            ]
          },
          "metadata": {
            "tags": []
          }
        }
      ]
    },
    {
      "metadata": {
        "id": "7pYO1rd6amQ2",
        "colab_type": "code",
        "colab": {
          "autoexec": {
            "startup": false,
            "wait_interval": 0
          },
          "base_uri": "https://localhost:8080/",
          "height": 123
        },
        "outputId": "6c44f2ed-6183-4a39-a4a5-c43aa3329b4a",
        "executionInfo": {
          "status": "ok",
          "timestamp": 1531709988490,
          "user_tz": 300,
          "elapsed": 479,
          "user": {
            "displayName": "sergi castel",
            "photoUrl": "//lh5.googleusercontent.com/-t7uPTy_PD5c/AAAAAAAAAAI/AAAAAAAABjU/YrQqLvCov5A/s50-c-k-no/photo.jpg",
            "userId": "104485759475975710875"
          }
        }
      },
      "cell_type": "code",
      "source": [
        "# Perform the neural network over the test set. \n",
        "print('Evaluating the test set...')\n",
        "score = cnn_transfer.evaluate(newXtest, yTest)\n",
        "\n",
        "print('\\nTest score:', score[0])\n",
        "print('Test accuracy:', score[1])\n",
        "Accu_InceptionV3=score[1]\n",
        "Accu_InceptionV3"
      ],
      "execution_count": 46,
      "outputs": [
        {
          "output_type": "stream",
          "text": [
            "Evaluating the test set...\n",
            "180/180 [==============================] - 0s 1ms/step\n",
            "\n",
            "Test score: 11.819936667548285\n",
            "Test accuracy: 0.26666666666666666\n"
          ],
          "name": "stdout"
        },
        {
          "output_type": "execute_result",
          "data": {
            "text/plain": [
              "0.26666666666666666"
            ]
          },
          "metadata": {
            "tags": []
          },
          "execution_count": 46
        }
      ]
    },
    {
      "metadata": {
        "id": "EW5iblt6moVI",
        "colab_type": "code",
        "colab": {
          "autoexec": {
            "startup": false,
            "wait_interval": 0
          },
          "base_uri": "https://localhost:8080/",
          "height": 516
        },
        "outputId": "c08c1c4f-7e4e-499a-a352-200670f27ad3",
        "executionInfo": {
          "status": "ok",
          "timestamp": 1531709993896,
          "user_tz": 300,
          "elapsed": 3170,
          "user": {
            "displayName": "sergi castel",
            "photoUrl": "//lh5.googleusercontent.com/-t7uPTy_PD5c/AAAAAAAAAAI/AAAAAAAABjU/YrQqLvCov5A/s50-c-k-no/photo.jpg",
            "userId": "104485759475975710875"
          }
        }
      },
      "cell_type": "code",
      "source": [
        "from sklearn.metrics import confusion_matrix,classification_report\n",
        "import pandas as pd\n",
        "import numpy as np\n",
        "\n",
        "# Set the classes' names.\n",
        "target_names = ['egr','man','owl','puf','tou','wod']\n",
        "\n",
        "# Predict class in test.\n",
        "Y_pred = cnn_transfer.predict(newXtest)\n",
        "\n",
        "# Choose the class with higher probability.\n",
        "y_pred = np.argmax(Y_pred, axis=1)\n",
        "\n",
        "print('-------------------------------------------------')\n",
        "print('-------------------------------------------------')\n",
        "print('-----------------Confusion Matrix----------------')\n",
        "print(pd.DataFrame(confusion_matrix(yTest.argmax(axis=1), y_pred),columns=target_names, index=target_names))\n",
        "print('-------------------------------------------------')\n",
        "print('-------------------------------------------------\\n')\n",
        "print('---------------Classification Report-------------')\n",
        "\n",
        "print(classification_report(yTest.argmax(axis=1), y_pred, target_names=target_names))"
      ],
      "execution_count": 47,
      "outputs": [
        {
          "output_type": "stream",
          "text": [
            "-------------------------------------------------\n",
            "-------------------------------------------------\n",
            "-----------------Confusion Matrix----------------\n",
            "     egr  man  owl  puf  tou  wod\n",
            "egr   26    0    0    0    0    3\n",
            "man    9    0    0    0    0   24\n",
            "owl   25    0    0    0    0    8\n",
            "puf   25    0    0    0    0    9\n",
            "tou   15    0    0    0    0   12\n",
            "wod    2    0    0    0    0   22\n",
            "-------------------------------------------------\n",
            "-------------------------------------------------\n",
            "\n",
            "---------------Classification Report-------------\n",
            "             precision    recall  f1-score   support\n",
            "\n",
            "        egr       0.25      0.90      0.40        29\n",
            "        man       0.00      0.00      0.00        33\n",
            "        owl       0.00      0.00      0.00        33\n",
            "        puf       0.00      0.00      0.00        34\n",
            "        tou       0.00      0.00      0.00        27\n",
            "        wod       0.28      0.92      0.43        24\n",
            "\n",
            "avg / total       0.08      0.27      0.12       180\n",
            "\n"
          ],
          "name": "stdout"
        },
        {
          "output_type": "stream",
          "text": [
            "/usr/local/lib/python3.6/dist-packages/sklearn/metrics/classification.py:1135: UndefinedMetricWarning: Precision and F-score are ill-defined and being set to 0.0 in labels with no predicted samples.\n",
            "  'precision', 'predicted', average, warn_for)\n"
          ],
          "name": "stderr"
        }
      ]
    },
    {
      "metadata": {
        "id": "CzhjTglKZi3F",
        "colab_type": "text"
      },
      "cell_type": "markdown",
      "source": [
        "## Comparing Transfer Learning Models"
      ]
    },
    {
      "metadata": {
        "id": "45Du4VytZiK0",
        "colab_type": "code",
        "colab": {
          "autoexec": {
            "startup": false,
            "wait_interval": 0
          },
          "base_uri": "https://localhost:8080/",
          "height": 351
        },
        "outputId": "f4700d9b-6df1-400f-fc0c-c5c5f740a9c7",
        "executionInfo": {
          "status": "ok",
          "timestamp": 1531709998160,
          "user_tz": 300,
          "elapsed": 1795,
          "user": {
            "displayName": "sergi castel",
            "photoUrl": "//lh5.googleusercontent.com/-t7uPTy_PD5c/AAAAAAAAAAI/AAAAAAAABjU/YrQqLvCov5A/s50-c-k-no/photo.jpg",
            "userId": "104485759475975710875"
          }
        }
      },
      "cell_type": "code",
      "source": [
        "plt.figure(figsize=(10,5))\n",
        "plt.bar([\"Xception\",\"VGG16\",\"ResNet50\",\"InceptionV3\"],[Accu_Xception,Accu_VGG16,Accu_RestNet,Accu_InceptionV3],color=\"orange\",align='center')\n",
        "plt.title(\"TRANSFER LEARNING MODELS\")\n",
        "plt.xlabel(\"Models\",fontsize=12)\n",
        "plt.ylabel(\"Accuracy\")\n",
        "plt.show()"
      ],
      "execution_count": 48,
      "outputs": [
        {
          "output_type": "display_data",
          "data": {
            "image/png": "[encoded data removed]",
            "text/plain": [
              "<matplotlib.figure.Figure at 0x7f2d041c1b00>"
            ]
          },
          "metadata": {
            "tags": []
          }
        }
      ]
    },
    {
      "metadata": {
        "id": "1bXtfZeLD-1M",
        "colab_type": "text"
      },
      "cell_type": "markdown",
      "source": [
        "\n",
        "The best two pre-trained models to classify the six types of images are ResNet50 being the best with an accuracy of 0.97, followed by VGG16 with 0.938. The remaining 2 models do not allow to find the fundamental characteristics for birds.\n",
        "\n",
        "RESNET50 is a pre-trained neural network of residual learning in which its authors explicitly reformulated layers as residual learning functions with reference to layer entries, instead of learning functions without reference. According to the references, these residual networks are easier to optimize and can obtain precision from a considerably greater depth.\n",
        "\n",
        "Our network RESNET50 use two hidden layers that include a 50% dropout and a relu activation function and an optimized Adam, whose learning rate was adjusted (Tunning), as well as the other parameters of the network, in order to avoid Overfitting in learning and getting the best accuracy.\n",
        "\n",
        "VGG corresponds to pre-trained networks that use convolutional network depth for the recognition of large-scale images, in this case with a depth of 16 weight layers. Their authors indicate that their representations are generalized well to other data sets, where they achieve cutting-edge results.\n",
        "\n",
        "Finally we set the same architecture in VGG16 model and perfom a parameter tuning. For instance we modify Dropout and learning rate in order to get similar results to other models(i.e. RESNET50 )\n",
        "\n",
        "---"
      ]
    },
    {
      "metadata": {
        "id": "Z5l9aEkKiyrd",
        "colab_type": "text"
      },
      "cell_type": "markdown",
      "source": [
        "# Fine Tuning "
      ]
    },
    {
      "metadata": {
        "id": "iZq6WOw4iyre",
        "colab_type": "text"
      },
      "cell_type": "markdown",
      "source": [
        "We use the pre-trained CNN model as a feature extractor. The pretrained model was 'Xception'. We also replace the top part of the pretrained CNN with two layers of 256 and 6 neurons respectively. Weigths in Xception are also trained."
      ]
    },
    {
      "metadata": {
        "id": "cTXqrgUhxfPp",
        "colab_type": "code",
        "colab": {
          "autoexec": {
            "startup": false,
            "wait_interval": 0
          }
        }
      },
      "cell_type": "code",
      "source": [
        "K.clear_session()"
      ],
      "execution_count": 0,
      "outputs": []
    },
    {
      "metadata": {
        "id": "0b_w5KuBzXeT",
        "colab_type": "text"
      },
      "cell_type": "markdown",
      "source": [
        "## Xception Model"
      ]
    },
    {
      "metadata": {
        "id": "DrI1hf8siyrf",
        "colab_type": "code",
        "colab": {
          "autoexec": {
            "startup": false,
            "wait_interval": 0
          },
          "base_uri": "https://localhost:8080/",
          "height": 325
        },
        "outputId": "723caba4-738c-4747-a778-3f34d06d0f3f",
        "executionInfo": {
          "status": "ok",
          "timestamp": 1531710490635,
          "user_tz": 300,
          "elapsed": 148,
          "user": {
            "displayName": "sergi castel",
            "photoUrl": "//lh5.googleusercontent.com/-t7uPTy_PD5c/AAAAAAAAAAI/AAAAAAAABjU/YrQqLvCov5A/s50-c-k-no/photo.jpg",
            "userId": "104485759475975710875"
          }
        }
      },
      "cell_type": "code",
      "source": [
        "from keras.applications.xception import Xception\n",
        "from keras.models import Sequential\n",
        "from keras.layers import Conv2D, MaxPooling2D\n",
        "from keras.layers import Activation, Dropout, Flatten, Dense\n",
        "from keras import backend as K\n",
        "import keras.optimizers as opts\n",
        "from livelossplot import PlotLossesKeras\n",
        "\n",
        "# Model structure.\n",
        "outputClasses = 6\n",
        "\n",
        "# Load pretrained model..\n",
        "modelXception = Xception(weights='imagenet', include_top=False, input_shape=(xsize,ysize,3))\n",
        "#modelXception = VGG16(weights='imagenet', include_top=False, input_shape=(xsize,ysize,3))\n",
        "\n",
        "# Create the model. \n",
        "modelFineTuning = Sequential()\n",
        "\n",
        "# Add pretrained model. \n",
        "modelFineTuning.add(modelXception)\n",
        "\n",
        "# Apply a convolutional layer. \n",
        "modelFineTuning.add(Flatten())\n",
        "\n",
        "# Add the fully connected.\n",
        "modelFineTuning.add(Dense(256, activation='softmax'))\n",
        "\n",
        "# Add a dropout.\n",
        "modelFineTuning.add(Dropout(0.2))\n",
        "\n",
        "# Add the fully connected.\n",
        "modelFineTuning.add(Dense(outputClasses))\n",
        "\n",
        "# Add the activation softmax.\n",
        "modelFineTuning.add(Activation('softmax'))\n",
        "\n",
        "modelFineTuning.summary(70)\n",
        "\n",
        "# Compile the model. \n",
        "op=opts.adam(lr=0.001, decay=0.0)\n",
        "#op=opts.RMSprop()\n",
        "modelFineTuning.compile(loss = 'categorical_crossentropy',\n",
        "              optimizer = op,\n",
        "              metrics = ['accuracy'])\n",
        "\n",
        "batch_size = 10\n",
        "epochs = 10\n",
        "# Train Model.\n",
        "trainingCNN_FineTuning = modelFineTuning.fit(xTrain, yTrain,\n",
        "                    batch_size=batch_size,\n",
        "                    epochs=epochs,\n",
        "                    verbose=1,\n",
        "                    shuffle = True, \n",
        "                    validation_split =0.1,callbacks=[PlotLossesKeras()])\n",
        "\n"
      ],
      "execution_count": 49,
      "outputs": [
        {
          "output_type": "display_data",
          "data": {
            "image/png": "[encoded data removed]",
            "text/plain": [
              "<matplotlib.figure.Figure at 0x7f2ceac78780>"
            ]
          },
          "metadata": {
            "tags": []
          }
        }
      ]
    },
    {
      "metadata": {
        "id": "qjENYk3viyrp",
        "colab_type": "code",
        "colab": {
          "autoexec": {
            "startup": false,
            "wait_interval": 0
          },
          "base_uri": "https://localhost:8080/",
          "height": 123
        },
        "outputId": "4786fc03-2c8f-4953-9953-849e83552647",
        "executionInfo": {
          "status": "ok",
          "timestamp": 1531710550407,
          "user_tz": 300,
          "elapsed": 5290,
          "user": {
            "displayName": "sergi castel",
            "photoUrl": "//lh5.googleusercontent.com/-t7uPTy_PD5c/AAAAAAAAAAI/AAAAAAAABjU/YrQqLvCov5A/s50-c-k-no/photo.jpg",
            "userId": "104485759475975710875"
          }
        }
      },
      "cell_type": "code",
      "source": [
        "# Perform the neural network over the test set. \n",
        "print('Evaluating the test set...')\n",
        "score = modelFineTuning.evaluate(xTest, yTest)\n",
        "\n",
        "print('\\nTest score:', score[0])\n",
        "print('Test accuracy:', score[1])\n",
        "Accur_Xception=score[1]\n",
        "Accur_Xception"
      ],
      "execution_count": 50,
      "outputs": [
        {
          "output_type": "stream",
          "text": [
            "Evaluating the test set...\n",
            "180/180 [==============================] - 5s 27ms/step\n",
            "\n",
            "Test score: 1.796935420566135\n",
            "Test accuracy: 0.2166666673289405\n"
          ],
          "name": "stdout"
        },
        {
          "output_type": "execute_result",
          "data": {
            "text/plain": [
              "0.2166666673289405"
            ]
          },
          "metadata": {
            "tags": []
          },
          "execution_count": 50
        }
      ]
    },
    {
      "metadata": {
        "id": "YxMMbhDPiyrs",
        "colab_type": "code",
        "colab": {
          "autoexec": {
            "startup": false,
            "wait_interval": 0
          },
          "base_uri": "https://localhost:8080/",
          "height": 516
        },
        "outputId": "f00c64f8-e962-4414-be80-5cfcb59a9725",
        "executionInfo": {
          "status": "ok",
          "timestamp": 1531710566740,
          "user_tz": 300,
          "elapsed": 8792,
          "user": {
            "displayName": "sergi castel",
            "photoUrl": "//lh5.googleusercontent.com/-t7uPTy_PD5c/AAAAAAAAAAI/AAAAAAAABjU/YrQqLvCov5A/s50-c-k-no/photo.jpg",
            "userId": "104485759475975710875"
          }
        }
      },
      "cell_type": "code",
      "source": [
        "from sklearn.metrics import confusion_matrix,classification_report\n",
        "import pandas as pd\n",
        "import numpy as np\n",
        "\n",
        "# Set the classes' names.\n",
        "target_names = ['egr','man','owl','puf','tou','wod']\n",
        "\n",
        "# Predict class in test.\n",
        "Y_pred = modelFineTuning.predict(xTest)\n",
        "\n",
        "# Choose the class with higher probability.\n",
        "y_pred = np.argmax(Y_pred, axis=1)\n",
        "\n",
        "print('-------------------------------------------------')\n",
        "print('-------------------------------------------------')\n",
        "print('-----------------Confusion Matrix----------------')\n",
        "print(pd.DataFrame(confusion_matrix(yTest.argmax(axis=1), y_pred),columns=target_names, index=target_names))\n",
        "print('-------------------------------------------------')\n",
        "print('-------------------------------------------------\\n')\n",
        "print('---------------Classification Report-------------')\n",
        "\n",
        "print(classification_report(yTest.argmax(axis=1), y_pred, target_names=target_names))"
      ],
      "execution_count": 51,
      "outputs": [
        {
          "output_type": "stream",
          "text": [
            "-------------------------------------------------\n",
            "-------------------------------------------------\n",
            "-----------------Confusion Matrix----------------\n",
            "     egr  man  owl  puf  tou  wod\n",
            "egr    7    0   22    0    0    0\n",
            "man    2    2   29    0    0    0\n",
            "owl    1    2   30    0    0    0\n",
            "puf   12    7   15    0    0    0\n",
            "tou    2    4   21    0    0    0\n",
            "wod    0    1   23    0    0    0\n",
            "-------------------------------------------------\n",
            "-------------------------------------------------\n",
            "\n",
            "---------------Classification Report-------------\n",
            "             precision    recall  f1-score   support\n",
            "\n",
            "        egr       0.29      0.24      0.26        29\n",
            "        man       0.12      0.06      0.08        33\n",
            "        owl       0.21      0.91      0.35        33\n",
            "        puf       0.00      0.00      0.00        34\n",
            "        tou       0.00      0.00      0.00        27\n",
            "        wod       0.00      0.00      0.00        24\n",
            "\n",
            "avg / total       0.11      0.22      0.12       180\n",
            "\n"
          ],
          "name": "stdout"
        },
        {
          "output_type": "stream",
          "text": [
            "/usr/local/lib/python3.6/dist-packages/sklearn/metrics/classification.py:1135: UndefinedMetricWarning: Precision and F-score are ill-defined and being set to 0.0 in labels with no predicted samples.\n",
            "  'precision', 'predicted', average, warn_for)\n"
          ],
          "name": "stderr"
        }
      ]
    },
    {
      "metadata": {
        "id": "bwf6ocAvyLmI",
        "colab_type": "text"
      },
      "cell_type": "markdown",
      "source": [
        "## VGG16 Model"
      ]
    },
    {
      "metadata": {
        "id": "8KWaaI1QyLNp",
        "colab_type": "code",
        "colab": {
          "autoexec": {
            "startup": false,
            "wait_interval": 0
          },
          "base_uri": "https://localhost:8080/",
          "height": 325
        },
        "outputId": "4a741fdc-03c4-4f5c-912c-3c296298c16b",
        "executionInfo": {
          "status": "ok",
          "timestamp": 1531711622592,
          "user_tz": 300,
          "elapsed": 7,
          "user": {
            "displayName": "sergi castel",
            "photoUrl": "//lh5.googleusercontent.com/-t7uPTy_PD5c/AAAAAAAAAAI/AAAAAAAABjU/YrQqLvCov5A/s50-c-k-no/photo.jpg",
            "userId": "104485759475975710875"
          }
        }
      },
      "cell_type": "code",
      "source": [
        "from keras.applications.xception import Xception\n",
        "from keras.applications.vgg16 import VGG16\n",
        "from keras.models import Sequential\n",
        "from keras.layers import Conv2D, MaxPooling2D\n",
        "from keras.layers import Activation, Dropout, Flatten, Dense\n",
        "from keras import backend as K\n",
        "import keras.optimizers as opts\n",
        "from livelossplot import PlotLossesKeras\n",
        "\n",
        "# Model structure.\n",
        "outputClasses = 6\n",
        "\n",
        "# Load pretrained model..\n",
        "modelXception = VGG16(weights='imagenet', include_top=False, input_shape=(xsize,ysize,3))\n",
        "\n",
        "# Create the model. \n",
        "modelFineTuning = Sequential()\n",
        "\n",
        "# Add pretrained model. \n",
        "modelFineTuning.add(modelXception)\n",
        "\n",
        "# Apply a convolutional layer. \n",
        "modelFineTuning.add(Flatten())\n",
        "\n",
        "# Add the fully connected.\n",
        "modelFineTuning.add(Dense(256, activation='softmax'))\n",
        "\n",
        "# Add a dropout.\n",
        "#modelFineTuning.add(Dropout(0.5))\n",
        "\n",
        "# Add the fully connected.\n",
        "modelFineTuning.add(Dense(outputClasses))\n",
        "\n",
        "# Add the activation softmax.\n",
        "modelFineTuning.add(Activation('softmax'))\n",
        "\n",
        "modelFineTuning.summary(70)\n",
        "\n",
        "# Compile the model. \n",
        "op=opts.SGD(lr=0.0001, decay=0.0)\n",
        "#op=opts.RMSprop()\n",
        "modelFineTuning.compile(loss = 'categorical_crossentropy',\n",
        "              optimizer = op,\n",
        "              metrics = ['accuracy'])\n",
        "\n",
        "batch_size = 10\n",
        "epochs = 10\n",
        "\n",
        "# Train Model.\n",
        "trainingCNN_FineTuning = modelFineTuning.fit(xTrain, yTrain,\n",
        "                    batch_size=batch_size,\n",
        "                    epochs=epochs,\n",
        "                    verbose=1,\n",
        "                    shuffle = True, \n",
        "                    validation_split =0.2,callbacks=[PlotLossesKeras()])\n"
      ],
      "execution_count": 54,
      "outputs": [
        {
          "output_type": "display_data",
          "data": {
            "image/png": "[encoded data removed]",
            "text/plain": [
              "<matplotlib.figure.Figure at 0x7f2ce8251080>"
            ]
          },
          "metadata": {
            "tags": []
          }
        }
      ]
    },
    {
      "metadata": {
        "id": "_XAux7ipyLEB",
        "colab_type": "code",
        "colab": {
          "autoexec": {
            "startup": false,
            "wait_interval": 0
          },
          "base_uri": "https://localhost:8080/",
          "height": 123
        },
        "outputId": "d274a9e2-3095-4866-c3af-38477fe52069",
        "executionInfo": {
          "status": "ok",
          "timestamp": 1531711633944,
          "user_tz": 300,
          "elapsed": 4297,
          "user": {
            "displayName": "sergi castel",
            "photoUrl": "//lh5.googleusercontent.com/-t7uPTy_PD5c/AAAAAAAAAAI/AAAAAAAABjU/YrQqLvCov5A/s50-c-k-no/photo.jpg",
            "userId": "104485759475975710875"
          }
        }
      },
      "cell_type": "code",
      "source": [
        "# Perform the neural network over the test set. \n",
        "print('Evaluating the test set...')\n",
        "score = modelFineTuning.evaluate(xTest, yTest)\n",
        "\n",
        "print('\\nTest score:', score[0])\n",
        "print('Test accuracy:', score[1])\n",
        "Accur_VGG16=score[1]\n",
        "Accur_VGG16"
      ],
      "execution_count": 55,
      "outputs": [
        {
          "output_type": "stream",
          "text": [
            "Evaluating the test set...\n",
            "180/180 [==============================] - 4s 22ms/step\n",
            "\n",
            "Test score: 1.7925145069758097\n",
            "Test accuracy: 0.19444444477558137\n"
          ],
          "name": "stdout"
        },
        {
          "output_type": "execute_result",
          "data": {
            "text/plain": [
              "0.19444444477558137"
            ]
          },
          "metadata": {
            "tags": []
          },
          "execution_count": 55
        }
      ]
    },
    {
      "metadata": {
        "id": "j02tjM9gyK3I",
        "colab_type": "code",
        "colab": {
          "autoexec": {
            "startup": false,
            "wait_interval": 0
          },
          "base_uri": "https://localhost:8080/",
          "height": 461
        },
        "outputId": "534d35d4-0446-4ad0-e57e-51b10acb9f1d",
        "executionInfo": {
          "status": "ok",
          "timestamp": 1531711646579,
          "user_tz": 300,
          "elapsed": 8252,
          "user": {
            "displayName": "sergi castel",
            "photoUrl": "//lh5.googleusercontent.com/-t7uPTy_PD5c/AAAAAAAAAAI/AAAAAAAABjU/YrQqLvCov5A/s50-c-k-no/photo.jpg",
            "userId": "104485759475975710875"
          }
        }
      },
      "cell_type": "code",
      "source": [
        "from sklearn.metrics import confusion_matrix,classification_report\n",
        "import pandas as pd\n",
        "import numpy as np\n",
        "\n",
        "# Set the classes' names.\n",
        "target_names = ['egr','man','owl','puf','tou','wod']\n",
        "\n",
        "# Predict class in test.\n",
        "Y_pred = modelFineTuning.predict(xTest)\n",
        "\n",
        "# Choose the class with higher probability.\n",
        "y_pred = np.argmax(Y_pred, axis=1)\n",
        "\n",
        "print('-------------------------------------------------')\n",
        "print('-------------------------------------------------')\n",
        "print('-----------------Confusion Matrix----------------')\n",
        "print(pd.DataFrame(confusion_matrix(yTest.argmax(axis=1), y_pred),columns=target_names, index=target_names))\n",
        "print('-------------------------------------------------')\n",
        "print('-------------------------------------------------\\n')\n",
        "print('---------------Classification Report-------------')\n",
        "\n",
        "print(classification_report(yTest.argmax(axis=1), y_pred, target_names=target_names))"
      ],
      "execution_count": 56,
      "outputs": [
        {
          "output_type": "stream",
          "text": [
            "-------------------------------------------------\n",
            "-------------------------------------------------\n",
            "-----------------Confusion Matrix----------------\n",
            "     egr  man  owl  puf  tou  wod\n",
            "egr    7    2    8    3    4    5\n",
            "man    5    7    5    1   12    3\n",
            "owl    8    4    7    4    4    6\n",
            "puf    6    9    5    3    7    4\n",
            "tou    4    8    3    5    3    4\n",
            "wod    3    4    5    3    1    8\n",
            "-------------------------------------------------\n",
            "-------------------------------------------------\n",
            "\n",
            "---------------Classification Report-------------\n",
            "             precision    recall  f1-score   support\n",
            "\n",
            "        egr       0.21      0.24      0.23        29\n",
            "        man       0.21      0.21      0.21        33\n",
            "        owl       0.21      0.21      0.21        33\n",
            "        puf       0.16      0.09      0.11        34\n",
            "        tou       0.10      0.11      0.10        27\n",
            "        wod       0.27      0.33      0.30        24\n",
            "\n",
            "avg / total       0.19      0.19      0.19       180\n",
            "\n"
          ],
          "name": "stdout"
        }
      ]
    },
    {
      "metadata": {
        "id": "wBCLjyt_zRcX",
        "colab_type": "text"
      },
      "cell_type": "markdown",
      "source": [
        "## ResNet50 Model"
      ]
    },
    {
      "metadata": {
        "id": "a5372gumzsJz",
        "colab_type": "code",
        "colab": {
          "autoexec": {
            "startup": false,
            "wait_interval": 0
          },
          "base_uri": "https://localhost:8080/",
          "height": 325
        },
        "outputId": "baa4e8c2-74db-45ee-d0c7-6a499f62489b",
        "executionInfo": {
          "status": "ok",
          "timestamp": 1531712386996,
          "user_tz": 300,
          "elapsed": 157,
          "user": {
            "displayName": "sergi castel",
            "photoUrl": "//lh5.googleusercontent.com/-t7uPTy_PD5c/AAAAAAAAAAI/AAAAAAAABjU/YrQqLvCov5A/s50-c-k-no/photo.jpg",
            "userId": "104485759475975710875"
          }
        }
      },
      "cell_type": "code",
      "source": [
        "from keras.applications.xception import Xception\n",
        "from keras.applications.vgg16 import VGG16\n",
        "from keras.applications.resnet50 import ResNet50\n",
        "from keras.models import Sequential\n",
        "from keras.layers import Conv2D, MaxPooling2D\n",
        "from keras.layers import Activation, Dropout, Flatten, Dense\n",
        "from keras import backend as K\n",
        "import keras.optimizers as opts\n",
        "from livelossplot import PlotLossesKeras\n",
        "\n",
        "# Model structure.\n",
        "outputClasses = 6\n",
        "\n",
        "# Load pretrained model..\n",
        "modelXception = ResNet50(weights='imagenet', include_top=False, input_shape=(xsize,ysize,3))\n",
        "\n",
        "# Create the model. \n",
        "modelFineTuning = Sequential()\n",
        "\n",
        "# Add pretrained model. \n",
        "modelFineTuning.add(modelXception)\n",
        "\n",
        "# Apply a convolutional layer. \n",
        "modelFineTuning.add(Flatten())\n",
        "\n",
        "# Add the fully connected.\n",
        "modelFineTuning.add(Dense(256, activation='softmax'))\n",
        "\n",
        "# Add a dropout.\n",
        "#modelFineTuning.add(Dropout(0.5))\n",
        "\n",
        "# Add the fully connected.\n",
        "modelFineTuning.add(Dense(outputClasses))\n",
        "\n",
        "# Add the activation softmax.\n",
        "modelFineTuning.add(Activation('softmax'))\n",
        "\n",
        "modelFineTuning.summary(70)\n",
        "\n",
        "# Compile the model. \n",
        "op=opts.adam(lr=0.0001, decay=0.0)\n",
        "#op=opts.RMSprop()\n",
        "modelFineTuning.compile(loss = 'categorical_crossentropy',\n",
        "              optimizer = op,\n",
        "              metrics = ['accuracy'])\n",
        "\n",
        "batch_size = 10\n",
        "epochs = 10\n",
        "\n",
        "# Train Model.\n",
        "trainingCNN_FineTuning = modelFineTuning.fit(xTrain, yTrain,\n",
        "                    batch_size=batch_size,\n",
        "                    epochs=epochs,\n",
        "                    verbose=1,\n",
        "                    shuffle = True, \n",
        "                    validation_split =0.2,callbacks=[PlotLossesKeras()])"
      ],
      "execution_count": 58,
      "outputs": [
        {
          "output_type": "display_data",
          "data": {
            "image/png": "[encoded data removed]",
            "text/plain": [
              "<matplotlib.figure.Figure at 0x7f2cd0f60390>"
            ]
          },
          "metadata": {
            "tags": []
          }
        }
      ]
    },
    {
      "metadata": {
        "id": "525fwgW6zsE1",
        "colab_type": "code",
        "colab": {
          "autoexec": {
            "startup": false,
            "wait_interval": 0
          },
          "base_uri": "https://localhost:8080/",
          "height": 123
        },
        "outputId": "917b5861-e268-4ccc-aa3f-7058bb7865ef",
        "executionInfo": {
          "status": "ok",
          "timestamp": 1531712646872,
          "user_tz": 300,
          "elapsed": 4233,
          "user": {
            "displayName": "sergi castel",
            "photoUrl": "//lh5.googleusercontent.com/-t7uPTy_PD5c/AAAAAAAAAAI/AAAAAAAABjU/YrQqLvCov5A/s50-c-k-no/photo.jpg",
            "userId": "104485759475975710875"
          }
        }
      },
      "cell_type": "code",
      "source": [
        "# Perform the neural network over the test set. \n",
        "print('Evaluating the test set...')\n",
        "score = modelFineTuning.evaluate(xTest, yTest)\n",
        "\n",
        "print('\\nTest score:', score[0])\n",
        "print('Test accuracy:', score[1])\n",
        "Accur_ResNet=score[1]\n",
        "Accur_ResNet"
      ],
      "execution_count": 59,
      "outputs": [
        {
          "output_type": "stream",
          "text": [
            "Evaluating the test set...\n",
            "180/180 [==============================] - 4s 22ms/step\n",
            "\n",
            "Test score: 1.6315908617443509\n",
            "Test accuracy: 0.8055555568801032\n"
          ],
          "name": "stdout"
        },
        {
          "output_type": "execute_result",
          "data": {
            "text/plain": [
              "0.8055555568801032"
            ]
          },
          "metadata": {
            "tags": []
          },
          "execution_count": 59
        }
      ]
    },
    {
      "metadata": {
        "id": "jaU4gW3VzsA6",
        "colab_type": "code",
        "colab": {
          "autoexec": {
            "startup": false,
            "wait_interval": 0
          },
          "base_uri": "https://localhost:8080/",
          "height": 516
        },
        "outputId": "34f46b0e-edec-4d1a-d394-10f198f3c510",
        "executionInfo": {
          "status": "ok",
          "timestamp": 1531712702336,
          "user_tz": 300,
          "elapsed": 5042,
          "user": {
            "displayName": "sergi castel",
            "photoUrl": "//lh5.googleusercontent.com/-t7uPTy_PD5c/AAAAAAAAAAI/AAAAAAAABjU/YrQqLvCov5A/s50-c-k-no/photo.jpg",
            "userId": "104485759475975710875"
          }
        }
      },
      "cell_type": "code",
      "source": [
        "from sklearn.metrics import confusion_matrix,classification_report\n",
        "import pandas as pd\n",
        "import numpy as np\n",
        "\n",
        "# Set the classes' names.\n",
        "target_names = ['egr','man','owl','puf','tou','wod']\n",
        "\n",
        "# Predict class in test.\n",
        "Y_pred = modelFineTuning.predict(xTest)\n",
        "\n",
        "# Choose the class with higher probability.\n",
        "y_pred = np.argmax(Y_pred, axis=1)\n",
        "\n",
        "print('-------------------------------------------------')\n",
        "print('-------------------------------------------------')\n",
        "print('-----------------Confusion Matrix----------------')\n",
        "print(pd.DataFrame(confusion_matrix(yTest.argmax(axis=1), y_pred),columns=target_names, index=target_names))\n",
        "print('-------------------------------------------------')\n",
        "print('-------------------------------------------------\\n')\n",
        "print('---------------Classification Report-------------')\n",
        "\n",
        "print(classification_report(yTest.argmax(axis=1), y_pred, target_names=target_names))"
      ],
      "execution_count": 61,
      "outputs": [
        {
          "output_type": "stream",
          "text": [
            "-------------------------------------------------\n",
            "-------------------------------------------------\n",
            "-----------------Confusion Matrix----------------\n",
            "     egr  man  owl  puf  tou  wod\n",
            "egr   29    0    0    0    0    0\n",
            "man    1    0    0   32    0    0\n",
            "owl    0    0   33    0    0    0\n",
            "puf    1    0    0   33    0    0\n",
            "tou    0    0    0    1   26    0\n",
            "wod    0    0    0    0    0   24\n",
            "-------------------------------------------------\n",
            "-------------------------------------------------\n",
            "\n",
            "---------------Classification Report-------------\n",
            "             precision    recall  f1-score   support\n",
            "\n",
            "        egr       0.94      1.00      0.97        29\n",
            "        man       0.00      0.00      0.00        33\n",
            "        owl       1.00      1.00      1.00        33\n",
            "        puf       0.50      0.97      0.66        34\n",
            "        tou       1.00      0.96      0.98        27\n",
            "        wod       1.00      1.00      1.00        24\n",
            "\n",
            "avg / total       0.71      0.81      0.74       180\n",
            "\n"
          ],
          "name": "stdout"
        },
        {
          "output_type": "stream",
          "text": [
            "/usr/local/lib/python3.6/dist-packages/sklearn/metrics/classification.py:1135: UndefinedMetricWarning: Precision and F-score are ill-defined and being set to 0.0 in labels with no predicted samples.\n",
            "  'precision', 'predicted', average, warn_for)\n"
          ],
          "name": "stderr"
        }
      ]
    },
    {
      "metadata": {
        "id": "SKAUT2PA1a1I",
        "colab_type": "text"
      },
      "cell_type": "markdown",
      "source": [
        "## InceptionV3 Model"
      ]
    },
    {
      "metadata": {
        "id": "4opaRUoV1Kmc",
        "colab_type": "code",
        "colab": {
          "autoexec": {
            "startup": false,
            "wait_interval": 0
          },
          "base_uri": "https://localhost:8080/",
          "height": 325
        },
        "outputId": "8db4b002-25d7-4d59-e638-ed23f67cdda0",
        "executionInfo": {
          "status": "ok",
          "timestamp": 1531713647602,
          "user_tz": 300,
          "elapsed": 144,
          "user": {
            "displayName": "sergi castel",
            "photoUrl": "//lh5.googleusercontent.com/-t7uPTy_PD5c/AAAAAAAAAAI/AAAAAAAABjU/YrQqLvCov5A/s50-c-k-no/photo.jpg",
            "userId": "104485759475975710875"
          }
        }
      },
      "cell_type": "code",
      "source": [
        "from keras.applications.xception import Xception\n",
        "from keras.applications.vgg16 import VGG16\n",
        "from keras.applications.resnet50 import ResNet50\n",
        "from keras.applications.inception_v3 import InceptionV3\n",
        "from keras.models import Sequential\n",
        "from keras.layers import Conv2D, MaxPooling2D\n",
        "from keras.layers import Activation, Dropout, Flatten, Dense\n",
        "from keras import backend as K\n",
        "import keras.optimizers as opts\n",
        "from livelossplot import PlotLossesKeras\n",
        "\n",
        "# Model structure.\n",
        "outputClasses = 6\n",
        "\n",
        "# Load pretrained model..\n",
        "modelXception = InceptionV3(weights='imagenet', include_top=False, input_shape=(xsize,ysize,3))\n",
        "\n",
        "# Create the model. \n",
        "modelFineTuning = Sequential()\n",
        "\n",
        "# Add pretrained model. \n",
        "modelFineTuning.add(modelXception)\n",
        "\n",
        "# Apply a convolutional layer. \n",
        "modelFineTuning.add(Flatten())\n",
        "\n",
        "# Add the fully connected.\n",
        "modelFineTuning.add(Dense(256, activation='softmax'))\n",
        "\n",
        "# Add a dropout.\n",
        "#modelFineTuning.add(Dropout(0.5))\n",
        "\n",
        "# Add the fully connected.\n",
        "modelFineTuning.add(Dense(outputClasses))\n",
        "\n",
        "# Add the activation softmax.\n",
        "modelFineTuning.add(Activation('softmax'))\n",
        "\n",
        "modelFineTuning.summary(70)\n",
        "\n",
        "# Compile the model. \n",
        "op=opts.adam(lr=0.0001, decay=0.0)\n",
        "#op=opts.RMSprop()\n",
        "modelFineTuning.compile(loss = 'categorical_crossentropy',\n",
        "              optimizer = op,\n",
        "              metrics = ['accuracy'])\n",
        "\n",
        "batch_size = 10\n",
        "\n",
        "epochs = 10\n",
        "\n",
        "# Train Model.\n",
        "trainingCNN_FineTuning = modelFineTuning.fit(xTrain, yTrain,\n",
        "                    batch_size=batch_size,\n",
        "                    epochs=epochs,\n",
        "                    verbose=1,\n",
        "                    shuffle = True, \n",
        "                    validation_split =0.2,callbacks=[PlotLossesKeras()])"
      ],
      "execution_count": 12,
      "outputs": [
        {
          "output_type": "display_data",
          "data": {
            "image/png": "[encoded data removed]",
            "text/plain": [
              "<matplotlib.figure.Figure at 0x7fe2a6453748>"
            ]
          },
          "metadata": {
            "tags": []
          }
        }
      ]
    },
    {
      "metadata": {
        "id": "RBJvhMjy1rDK",
        "colab_type": "code",
        "colab": {
          "autoexec": {
            "startup": false,
            "wait_interval": 0
          },
          "base_uri": "https://localhost:8080/",
          "height": 123
        },
        "outputId": "3fabff79-8662-4eed-efa6-60b3c007cf2b",
        "executionInfo": {
          "status": "ok",
          "timestamp": 1531713668149,
          "user_tz": 300,
          "elapsed": 5908,
          "user": {
            "displayName": "sergi castel",
            "photoUrl": "//lh5.googleusercontent.com/-t7uPTy_PD5c/AAAAAAAAAAI/AAAAAAAABjU/YrQqLvCov5A/s50-c-k-no/photo.jpg",
            "userId": "104485759475975710875"
          }
        }
      },
      "cell_type": "code",
      "source": [
        "# Perform the neural network over the test set. \n",
        "print('Evaluating the test set...')\n",
        "score = modelFineTuning.evaluate(xTest, yTest)\n",
        "\n",
        "print('\\nTest score:', score[0])\n",
        "print('Test accuracy:', score[1])\n",
        "Accur_InceptionV3=score[1]\n",
        "Accur_InceptionV3"
      ],
      "execution_count": 13,
      "outputs": [
        {
          "output_type": "stream",
          "text": [
            "Evaluating the test set...\n",
            "180/180 [==============================] - 5s 30ms/step\n",
            "\n",
            "Test score: 1.6242307239108615\n",
            "Test accuracy: 0.983333330684238\n"
          ],
          "name": "stdout"
        },
        {
          "output_type": "execute_result",
          "data": {
            "text/plain": [
              "0.983333330684238"
            ]
          },
          "metadata": {
            "tags": []
          },
          "execution_count": 13
        }
      ]
    },
    {
      "metadata": {
        "id": "abUto7LF2x1C",
        "colab_type": "code",
        "colab": {
          "autoexec": {
            "startup": false,
            "wait_interval": 0
          },
          "base_uri": "https://localhost:8080/",
          "height": 461
        },
        "outputId": "36f440ea-4c85-4725-9250-80c23a164d41",
        "executionInfo": {
          "status": "ok",
          "timestamp": 1531713712712,
          "user_tz": 300,
          "elapsed": 5506,
          "user": {
            "displayName": "sergi castel",
            "photoUrl": "//lh5.googleusercontent.com/-t7uPTy_PD5c/AAAAAAAAAAI/AAAAAAAABjU/YrQqLvCov5A/s50-c-k-no/photo.jpg",
            "userId": "104485759475975710875"
          }
        }
      },
      "cell_type": "code",
      "source": [
        "from sklearn.metrics import confusion_matrix,classification_report\n",
        "import pandas as pd\n",
        "import numpy as np\n",
        "\n",
        "# Set the classes' names.\n",
        "target_names = ['egr','man','owl','puf','tou','wod']\n",
        "\n",
        "# Predict class in test.\n",
        "Y_pred = modelFineTuning.predict(xTest)\n",
        "\n",
        "# Choose the class with higher probability.\n",
        "y_pred = np.argmax(Y_pred, axis=1)\n",
        "\n",
        "print('-------------------------------------------------')\n",
        "print('-------------------------------------------------')\n",
        "print('-----------------Confusion Matrix----------------')\n",
        "print(pd.DataFrame(confusion_matrix(yTest.argmax(axis=1), y_pred),columns=target_names, index=target_names))\n",
        "print('-------------------------------------------------')\n",
        "print('-------------------------------------------------\\n')\n",
        "print('---------------Classification Report-------------')\n",
        "\n",
        "print(classification_report(yTest.argmax(axis=1), y_pred, target_names=target_names))"
      ],
      "execution_count": 15,
      "outputs": [
        {
          "output_type": "stream",
          "text": [
            "-------------------------------------------------\n",
            "-------------------------------------------------\n",
            "-----------------Confusion Matrix----------------\n",
            "     egr  man  owl  puf  tou  wod\n",
            "egr   28    0    1    0    0    0\n",
            "man    0   32    0    1    0    0\n",
            "owl    0    0   33    0    0    0\n",
            "puf    0    0    0   34    0    0\n",
            "tou    0    0    0    1   26    0\n",
            "wod    0    0    0    0    0   24\n",
            "-------------------------------------------------\n",
            "-------------------------------------------------\n",
            "\n",
            "---------------Classification Report-------------\n",
            "             precision    recall  f1-score   support\n",
            "\n",
            "        egr       1.00      0.97      0.98        29\n",
            "        man       1.00      0.97      0.98        33\n",
            "        owl       0.97      1.00      0.99        33\n",
            "        puf       0.94      1.00      0.97        34\n",
            "        tou       1.00      0.96      0.98        27\n",
            "        wod       1.00      1.00      1.00        24\n",
            "\n",
            "avg / total       0.98      0.98      0.98       180\n",
            "\n"
          ],
          "name": "stdout"
        }
      ]
    },
    {
      "metadata": {
        "id": "Fblmp_T22yjX",
        "colab_type": "text"
      },
      "cell_type": "markdown",
      "source": [
        "## Comparing Fine Tuning Models"
      ]
    },
    {
      "metadata": {
        "id": "fNpMrWOD2ooI",
        "colab_type": "code",
        "colab": {
          "autoexec": {
            "startup": false,
            "wait_interval": 0
          },
          "base_uri": "https://localhost:8080/",
          "height": 351
        },
        "outputId": "64c6afd2-f57d-49b3-bf9d-91d14f8df0f6",
        "executionInfo": {
          "status": "ok",
          "timestamp": 1531713869072,
          "user_tz": 300,
          "elapsed": 364,
          "user": {
            "displayName": "sergi castel",
            "photoUrl": "//lh5.googleusercontent.com/-t7uPTy_PD5c/AAAAAAAAAAI/AAAAAAAABjU/YrQqLvCov5A/s50-c-k-no/photo.jpg",
            "userId": "104485759475975710875"
          }
        }
      },
      "cell_type": "code",
      "source": [
        "plt.figure(figsize=(10,5))\n",
        "plt.bar([\"Xception\",\"VGG16\",\"ResNet50\",\"InceptionV3\"],[0.21,0.1944,0.8055,Accur_InceptionV3],color=\"orange\",align='center')\n",
        "plt.title(\"FINE TUNING MODELS\")\n",
        "plt.xlabel(\"Models\",fontsize=12)\n",
        "plt.ylabel(\"Accuracy\")\n",
        "plt.show()"
      ],
      "execution_count": 17,
      "outputs": [
        {
          "output_type": "display_data",
          "data": {
            "image/png": "[encoded data removed]",
            "text/plain": [
              "<matplotlib.figure.Figure at 0x7fe2a0de8f28>"
            ]
          },
          "metadata": {
            "tags": []
          }
        }
      ]
    },
    {
      "metadata": {
        "id": "FB5Wt2uEIbAG",
        "colab_type": "text"
      },
      "cell_type": "markdown",
      "source": [
        "we can see that in fine tuning, accuracy above 0.90 for InceptionV3 was sewn, which allows concluding that both transfer learning and Fine tuning have similar results in this project, in addition the performance of the pre-trained network ResNet50 is highlighted in both methods He had better performance. Differences between Transfer learning and Fine Tuning results are consecuence of the highly dimensional parameters dimension that we are traning in Fine Tuning. Moreover if we take into account the limited size of database we conclude fine tuning is not the best way to approach to this problem."
      ]
    },
    {
      "metadata": {
        "id": "b3dYVbYLP5pf",
        "colab_type": "code",
        "colab": {
          "autoexec": {
            "startup": false,
            "wait_interval": 0
          },
          "base_uri": "https://localhost:8080/",
          "height": 283
        },
        "outputId": "ea28a7b7-a428-40ea-c8e6-d7970e7cb58b",
        "executionInfo": {
          "status": "ok",
          "timestamp": 1531680943212,
          "user_tz": 300,
          "elapsed": 1227,
          "user": {
            "displayName": "sergi castel",
            "photoUrl": "//lh5.googleusercontent.com/-t7uPTy_PD5c/AAAAAAAAAAI/AAAAAAAABjU/YrQqLvCov5A/s50-c-k-no/photo.jpg",
            "userId": "104485759475975710875"
          }
        }
      },
      "cell_type": "code",
      "source": [
        "from tensorflow.python.client import device_lib\n",
        "device_lib.list_local_devices()"
      ],
      "execution_count": 18,
      "outputs": [
        {
          "output_type": "execute_result",
          "data": {
            "text/plain": [
              "[name: \"/device:CPU:0\"\n",
              " device_type: \"CPU\"\n",
              " memory_limit: 268435456\n",
              " locality {\n",
              " }\n",
              " incarnation: 3618519897196186857, name: \"/device:GPU:0\"\n",
              " device_type: \"GPU\"\n",
              " memory_limit: 187891712\n",
              " locality {\n",
              "   bus_id: 1\n",
              "   links {\n",
              "   }\n",
              " }\n",
              " incarnation: 3618103794504563862\n",
              " physical_device_desc: \"device: 0, name: Tesla K80, pci bus id: 0000:00:04.0, compute capability: 3.7\"]"
            ]
          },
          "metadata": {
            "tags": []
          },
          "execution_count": 18
        }
      ]
    },
    {
      "metadata": {
        "id": "5cT9BiWXHWwG",
        "colab_type": "text"
      },
      "cell_type": "markdown",
      "source": [
        "## Conclusions\n",
        "\n",
        "\n",
        "Since the use of pre-trained neural networks, a classification exercise was carried out, after preprocessing the database of 600 observations of 6 different kinds of birds. Different pre-trained networks were used, seeking the best performance in the classification, with the best RESNET50 and VGG16. For the different networks used, several architectures were experimented and their parameters were adjusted (tunning) such as activation functions, optimizers and others.\n",
        "\n",
        "Although the best results were obtained in the use of pre-trained networks in Transfer Learning, the results did not improve traning the weights of those pretrained models. As a result a better performance was not obtained when applying them in Fine Tunning. The explanation is that for our dataset the best practice is use transfer learning due to database size. Then it is more convenient in the present exercise that the network inputs are obtained at from pre-trained networks and not in the application of these to all layers."
      ]
    },
    {
      "metadata": {
        "id": "FE8gKSFLGyN6",
        "colab_type": "text"
      },
      "cell_type": "markdown",
      "source": [
        "## Bibliography"
      ]
    },
    {
      "metadata": {
        "id": "CGZ3WbW1GyKt",
        "colab_type": "text"
      },
      "cell_type": "markdown",
      "source": [
        "1) Pre-trained Deep Learning Models applications chttps://keras.io/applications/\n",
        "\n",
        "2) Pre-trained Deep Learning Models Repository https://github.com/fchollet/deep-learning-models/\n",
        "\n",
        "3) Pre-trained Deep Learning Models references https://www.pyimagesearch.com/2017/03/20/imagenet-vggnet-resnet-inception-xception-keras/\n",
        "\n",
        "4)  Very Deep Convolutional Networks for Large-Scale Image Recognition. https://arxiv.org/abs/1409.1556.\n",
        "\n",
        "5)  Deep Residual Learning for Image Recognition. https://arxiv.org/abs/1512.03385\n",
        "\n",
        "6) Rethinking the Inception Architecture for Computer Vision. https://arxiv.org/abs/1512.00567\n",
        "\n",
        "7) Svetlana Lazebnik, Cordelia Schmid, and Jean Ponce. A Maximum Entropy Framework for Part-Based Texture and Object Recognition. Proceedings of the IEEE International Conference on Computer Vision, Beijing, China, October 2005, vol. 1, pp. 832-838. (Birds Database . http://www-cvr.ai.uiuc.edu/ponce_grp/data/)\n",
        "\n",
        "8) Deep Learning with TensorFlow: Explore neural networks with Python, by Giancarlo Zaccone , Md. Rezaul Karim, Ahmed Menshawy. (2017).\n",
        "\n",
        "9) Deep Learning with Keras: Implementing deep learning models and neural networks with the power of by Python,Antonio Gulli, Sujit Pal.(2017)."
      ]
    }
  ]
}